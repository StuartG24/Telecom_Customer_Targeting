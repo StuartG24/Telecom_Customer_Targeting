{
 "cells": [
  {
   "cell_type": "markdown",
   "metadata": {},
   "source": [
    "## temp"
   ]
  },
  {
   "cell_type": "code",
   "execution_count": 37,
   "metadata": {},
   "outputs": [
    {
     "name": "stdout",
     "output_type": "stream",
     "text": [
      "Optimal features: 8\n",
      "Feature rankings: [5 2 3 1 1 1 4 1 1 1 1 1]\n",
      "Optimal features: ['married', 'education', 'arrears', 'housing', 'has_tv_package', 'last_contact', 'last_contact_this_campaign_month', 'this_campaign']\n",
      "                             Feature  Ranking\n",
      "3                            married        1\n",
      "4                          education        1\n",
      "5                            arrears        1\n",
      "7                            housing        1\n",
      "8                     has_tv_package        1\n",
      "9                       last_contact        1\n",
      "10  last_contact_this_campaign_month        1\n",
      "11                     this_campaign        1\n",
      "1                                age        2\n",
      "2                                job        3\n",
      "6                    current_balance        4\n",
      "0                               town        5\n"
     ]
    }
   ],
   "source": [
    "from sklearn.feature_selection import RFECV\n",
    "from sklearn.linear_model import LogisticRegression\n",
    "from sklearn.preprocessing import LabelEncoder, StandardScaler\n",
    "\n",
    "\n",
    "categorical_features = X_train.select_dtypes(include=['object', 'bool']).columns\n",
    "X_train[categorical_features] = X_train[categorical_features].apply(LabelEncoder().fit_transform)\n",
    "\n",
    "\n",
    "# Initialize selector\n",
    "selector = RFECV(\n",
    "    estimator=LogisticRegression(max_iter=500, solver='liblinear'),\n",
    "    step=1,\n",
    "    cv=5,\n",
    "    scoring='accuracy'\n",
    ")\n",
    "\n",
    "# Fit to data\n",
    "selector.fit(X_train, y_train)\n",
    "X_selected = selector.transform(X_train)\n",
    "\n",
    "\n",
    "# Get results\n",
    "print(\"Optimal features:\", selector.n_features_)\n",
    "print(\"Feature rankings:\", selector.ranking_)\n",
    "\n",
    "\n",
    "# Get optimal feature names\n",
    "optimal_features = X.columns[selector.support_]\n",
    "print(\"Optimal features:\", list(optimal_features))\n",
    "\n",
    "# Optional: Feature rankings\n",
    "feature_rankings = pd.DataFrame({\n",
    "    'Feature': X.columns,\n",
    "    'Ranking': selector.ranking_\n",
    "}).sort_values(by='Ranking')\n",
    "print(feature_rankings)"
   ]
  },
  {
   "cell_type": "markdown",
   "metadata": {},
   "source": [
    "## Data Transformations\n",
    "\n",
    "- Missing, null - Imputation\n",
    "- Outliers Removal\n",
    "- Normalisation, scaling\n",
    "- Categorical encoding\n",
    "- Majority - ???\n",
    "- Minority - SMOTE ... ?? but not for categorical\n",
    "\n",
    "- ?? use minmaxscaler as data is non-gaussian?"
   ]
  },
  {
   "cell_type": "markdown",
   "metadata": {},
   "source": [
    "from imblearn.over_sampling import SMOTENC`\n",
    "obj = SMOTENC(categorical_features = [1,4])\n",
    "ovsersampled_features, ovsersampled_target = obj.fit_sample(Features, Target)\n",
    "\n",
    "\n",
    "from imblearn.over_sampling import SMOTENC\n",
    "# Indices of categorical features (columns 1 and 2)\n",
    "smote_nc = SMOTENC(categorical_features=[1, 2], random_state=42)\n",
    "X_res, y_res = smote_nc.fit_resample(X, y)\n",
    "\n"
   ]
  },
  {
   "cell_type": "code",
   "execution_count": 30,
   "metadata": {},
   "outputs": [
    {
     "name": "stdout",
     "output_type": "stream",
     "text": [
      "Numerics 3 \n",
      " Index(['age', 'current_balance', 'this_campaign'], dtype='object')\n",
      "Categoricals 9 \n",
      " Index(['town', 'job', 'married', 'education', 'arrears', 'housing',\n",
      "       'has_tv_package', 'last_contact', 'last_contact_this_campaign_month'],\n",
      "      dtype='object')\n"
     ]
    },
    {
     "data": {
      "text/html": [
       "<style>#sk-container-id-1 {color: black;}#sk-container-id-1 pre{padding: 0;}#sk-container-id-1 div.sk-toggleable {background-color: white;}#sk-container-id-1 label.sk-toggleable__label {cursor: pointer;display: block;width: 100%;margin-bottom: 0;padding: 0.3em;box-sizing: border-box;text-align: center;}#sk-container-id-1 label.sk-toggleable__label-arrow:before {content: \"▸\";float: left;margin-right: 0.25em;color: #696969;}#sk-container-id-1 label.sk-toggleable__label-arrow:hover:before {color: black;}#sk-container-id-1 div.sk-estimator:hover label.sk-toggleable__label-arrow:before {color: black;}#sk-container-id-1 div.sk-toggleable__content {max-height: 0;max-width: 0;overflow: hidden;text-align: left;background-color: #f0f8ff;}#sk-container-id-1 div.sk-toggleable__content pre {margin: 0.2em;color: black;border-radius: 0.25em;background-color: #f0f8ff;}#sk-container-id-1 input.sk-toggleable__control:checked~div.sk-toggleable__content {max-height: 200px;max-width: 100%;overflow: auto;}#sk-container-id-1 input.sk-toggleable__control:checked~label.sk-toggleable__label-arrow:before {content: \"▾\";}#sk-container-id-1 div.sk-estimator input.sk-toggleable__control:checked~label.sk-toggleable__label {background-color: #d4ebff;}#sk-container-id-1 div.sk-label input.sk-toggleable__control:checked~label.sk-toggleable__label {background-color: #d4ebff;}#sk-container-id-1 input.sk-hidden--visually {border: 0;clip: rect(1px 1px 1px 1px);clip: rect(1px, 1px, 1px, 1px);height: 1px;margin: -1px;overflow: hidden;padding: 0;position: absolute;width: 1px;}#sk-container-id-1 div.sk-estimator {font-family: monospace;background-color: #f0f8ff;border: 1px dotted black;border-radius: 0.25em;box-sizing: border-box;margin-bottom: 0.5em;}#sk-container-id-1 div.sk-estimator:hover {background-color: #d4ebff;}#sk-container-id-1 div.sk-parallel-item::after {content: \"\";width: 100%;border-bottom: 1px solid gray;flex-grow: 1;}#sk-container-id-1 div.sk-label:hover label.sk-toggleable__label {background-color: #d4ebff;}#sk-container-id-1 div.sk-serial::before {content: \"\";position: absolute;border-left: 1px solid gray;box-sizing: border-box;top: 0;bottom: 0;left: 50%;z-index: 0;}#sk-container-id-1 div.sk-serial {display: flex;flex-direction: column;align-items: center;background-color: white;padding-right: 0.2em;padding-left: 0.2em;position: relative;}#sk-container-id-1 div.sk-item {position: relative;z-index: 1;}#sk-container-id-1 div.sk-parallel {display: flex;align-items: stretch;justify-content: center;background-color: white;position: relative;}#sk-container-id-1 div.sk-item::before, #sk-container-id-1 div.sk-parallel-item::before {content: \"\";position: absolute;border-left: 1px solid gray;box-sizing: border-box;top: 0;bottom: 0;left: 50%;z-index: -1;}#sk-container-id-1 div.sk-parallel-item {display: flex;flex-direction: column;z-index: 1;position: relative;background-color: white;}#sk-container-id-1 div.sk-parallel-item:first-child::after {align-self: flex-end;width: 50%;}#sk-container-id-1 div.sk-parallel-item:last-child::after {align-self: flex-start;width: 50%;}#sk-container-id-1 div.sk-parallel-item:only-child::after {width: 0;}#sk-container-id-1 div.sk-dashed-wrapped {border: 1px dashed gray;margin: 0 0.4em 0.5em 0.4em;box-sizing: border-box;padding-bottom: 0.4em;background-color: white;}#sk-container-id-1 div.sk-label label {font-family: monospace;font-weight: bold;display: inline-block;line-height: 1.2em;}#sk-container-id-1 div.sk-label-container {text-align: center;}#sk-container-id-1 div.sk-container {/* jupyter's `normalize.less` sets `[hidden] { display: none; }` but bootstrap.min.css set `[hidden] { display: none !important; }` so we also need the `!important` here to be able to override the default hidden behavior on the sphinx rendered scikit-learn.org. See: https://github.com/scikit-learn/scikit-learn/issues/21755 */display: inline-block !important;position: relative;}#sk-container-id-1 div.sk-text-repr-fallback {display: none;}</style><div id=\"sk-container-id-1\" class=\"sk-top-container\"><div class=\"sk-text-repr-fallback\"><pre>ColumnTransformer(transformers=[(&#x27;cat&#x27;,\n",
       "                                 OneHotEncoder(drop=&#x27;first&#x27;,\n",
       "                                               handle_unknown=&#x27;infrequent_if_exist&#x27;),\n",
       "                                 Index([&#x27;town&#x27;, &#x27;job&#x27;, &#x27;married&#x27;, &#x27;education&#x27;, &#x27;arrears&#x27;, &#x27;housing&#x27;,\n",
       "       &#x27;has_tv_package&#x27;, &#x27;last_contact&#x27;, &#x27;last_contact_this_campaign_month&#x27;],\n",
       "      dtype=&#x27;object&#x27;)),\n",
       "                                (&#x27;num&#x27;, StandardScaler(),\n",
       "                                 Index([&#x27;age&#x27;, &#x27;current_balance&#x27;, &#x27;this_campaign&#x27;], dtype=&#x27;object&#x27;))])</pre><b>In a Jupyter environment, please rerun this cell to show the HTML representation or trust the notebook. <br />On GitHub, the HTML representation is unable to render, please try loading this page with nbviewer.org.</b></div><div class=\"sk-container\" hidden><div class=\"sk-item sk-dashed-wrapped\"><div class=\"sk-label-container\"><div class=\"sk-label sk-toggleable\"><input class=\"sk-toggleable__control sk-hidden--visually\" id=\"sk-estimator-id-1\" type=\"checkbox\" ><label for=\"sk-estimator-id-1\" class=\"sk-toggleable__label sk-toggleable__label-arrow\">ColumnTransformer</label><div class=\"sk-toggleable__content\"><pre>ColumnTransformer(transformers=[(&#x27;cat&#x27;,\n",
       "                                 OneHotEncoder(drop=&#x27;first&#x27;,\n",
       "                                               handle_unknown=&#x27;infrequent_if_exist&#x27;),\n",
       "                                 Index([&#x27;town&#x27;, &#x27;job&#x27;, &#x27;married&#x27;, &#x27;education&#x27;, &#x27;arrears&#x27;, &#x27;housing&#x27;,\n",
       "       &#x27;has_tv_package&#x27;, &#x27;last_contact&#x27;, &#x27;last_contact_this_campaign_month&#x27;],\n",
       "      dtype=&#x27;object&#x27;)),\n",
       "                                (&#x27;num&#x27;, StandardScaler(),\n",
       "                                 Index([&#x27;age&#x27;, &#x27;current_balance&#x27;, &#x27;this_campaign&#x27;], dtype=&#x27;object&#x27;))])</pre></div></div></div><div class=\"sk-parallel\"><div class=\"sk-parallel-item\"><div class=\"sk-item\"><div class=\"sk-label-container\"><div class=\"sk-label sk-toggleable\"><input class=\"sk-toggleable__control sk-hidden--visually\" id=\"sk-estimator-id-2\" type=\"checkbox\" ><label for=\"sk-estimator-id-2\" class=\"sk-toggleable__label sk-toggleable__label-arrow\">cat</label><div class=\"sk-toggleable__content\"><pre>Index([&#x27;town&#x27;, &#x27;job&#x27;, &#x27;married&#x27;, &#x27;education&#x27;, &#x27;arrears&#x27;, &#x27;housing&#x27;,\n",
       "       &#x27;has_tv_package&#x27;, &#x27;last_contact&#x27;, &#x27;last_contact_this_campaign_month&#x27;],\n",
       "      dtype=&#x27;object&#x27;)</pre></div></div></div><div class=\"sk-serial\"><div class=\"sk-item\"><div class=\"sk-estimator sk-toggleable\"><input class=\"sk-toggleable__control sk-hidden--visually\" id=\"sk-estimator-id-3\" type=\"checkbox\" ><label for=\"sk-estimator-id-3\" class=\"sk-toggleable__label sk-toggleable__label-arrow\">OneHotEncoder</label><div class=\"sk-toggleable__content\"><pre>OneHotEncoder(drop=&#x27;first&#x27;, handle_unknown=&#x27;infrequent_if_exist&#x27;)</pre></div></div></div></div></div></div><div class=\"sk-parallel-item\"><div class=\"sk-item\"><div class=\"sk-label-container\"><div class=\"sk-label sk-toggleable\"><input class=\"sk-toggleable__control sk-hidden--visually\" id=\"sk-estimator-id-4\" type=\"checkbox\" ><label for=\"sk-estimator-id-4\" class=\"sk-toggleable__label sk-toggleable__label-arrow\">num</label><div class=\"sk-toggleable__content\"><pre>Index([&#x27;age&#x27;, &#x27;current_balance&#x27;, &#x27;this_campaign&#x27;], dtype=&#x27;object&#x27;)</pre></div></div></div><div class=\"sk-serial\"><div class=\"sk-item\"><div class=\"sk-estimator sk-toggleable\"><input class=\"sk-toggleable__control sk-hidden--visually\" id=\"sk-estimator-id-5\" type=\"checkbox\" ><label for=\"sk-estimator-id-5\" class=\"sk-toggleable__label sk-toggleable__label-arrow\">StandardScaler</label><div class=\"sk-toggleable__content\"><pre>StandardScaler()</pre></div></div></div></div></div></div></div></div></div></div>"
      ],
      "text/plain": [
       "ColumnTransformer(transformers=[('cat',\n",
       "                                 OneHotEncoder(drop='first',\n",
       "                                               handle_unknown='infrequent_if_exist'),\n",
       "                                 Index(['town', 'job', 'married', 'education', 'arrears', 'housing',\n",
       "       'has_tv_package', 'last_contact', 'last_contact_this_campaign_month'],\n",
       "      dtype='object')),\n",
       "                                ('num', StandardScaler(),\n",
       "                                 Index(['age', 'current_balance', 'this_campaign'], dtype='object'))])"
      ]
     },
     "execution_count": 30,
     "metadata": {},
     "output_type": "execute_result"
    }
   ],
   "source": [
    "# Encode & Scale The Data\n",
    "# Use Column transformer to establish a repeatable setup for the data prep required\n",
    "\n",
    "from sklearn.preprocessing import OrdinalEncoder, OneHotEncoder, MinMaxScaler, StandardScaler\n",
    "from sklearn.compose import ColumnTransformer\n",
    "\n",
    "# Select the categorical and numerical features\n",
    "#categorical_features = ['married', 'housing']\n",
    "#numerical_features = ['age']\n",
    "numerical_features = X_train.select_dtypes(include=['int64', 'float64']).columns\n",
    "categorical_features = X_train.select_dtypes(include=['object', 'bool']).columns\n",
    "\n",
    "print(f'Numerics {len(numerical_features)} \\n', numerical_features)\n",
    "print(f'Categoricals {len(categorical_features)} \\n', categorical_features)\n",
    "\n",
    "# Create the transformations\n",
    "transformations = [\n",
    "    ('cat', OneHotEncoder(drop='first', handle_unknown='infrequent_if_exist'), categorical_features), \n",
    "    ('num', StandardScaler(), numerical_features)\n",
    "    #('num', MinMaxScaler(), numerical_features)\n",
    "    ]\n",
    "col_transform = ColumnTransformer(transformers=transformations)\n",
    "col_transform.fit(X_train)\n",
    "\n"
   ]
  },
  {
   "cell_type": "code",
   "execution_count": null,
   "metadata": {},
   "outputs": [],
   "source": [
    "# Perform the Transformation On All Data\n",
    "# Target y_train, y_test is not transformed\n",
    "\n",
    "X_train_encoded = col_transform.transform(X_train)\n",
    "X_test_encoded = col_transform.transform(X_test)\n",
    "\n",
    "display(f'X_Train Encoded: {X_train_encoded.shape}')\n",
    "display(f'X_test_encoded: {X_test_encoded.shape}')\n",
    "#display(col_transform.get_feature_names_out())"
   ]
  },
  {
   "cell_type": "code",
   "execution_count": null,
   "metadata": {},
   "outputs": [],
   "source": [
    "from imblearn.over_sampling import SMOTENC\n",
    "# Specify indices of categorical features (e.g., first 3 columns)\n",
    "smote_nc = SMOTENC(categorical_features=[0, 1, 2], random_state=42)\n",
    "X_resampled, y_resampled = smote_nc.fit_resample(X_train, y_train)\n"
   ]
  }
 ],
 "metadata": {
  "kernelspec": {
   "display_name": "ml_packages_v3_20250206",
   "language": "python",
   "name": "python3"
  },
  "language_info": {
   "codemirror_mode": {
    "name": "ipython",
    "version": 3
   },
   "file_extension": ".py",
   "mimetype": "text/x-python",
   "name": "python",
   "nbconvert_exporter": "python",
   "pygments_lexer": "ipython3",
   "version": "3.12.9"
  }
 },
 "nbformat": 4,
 "nbformat_minor": 2
}
