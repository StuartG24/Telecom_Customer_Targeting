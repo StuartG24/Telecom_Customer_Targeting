{
 "cells": [
  {
   "cell_type": "markdown",
   "metadata": {},
   "source": [
    "# 2. Models Evaluation\n"
   ]
  },
  {
   "cell_type": "markdown",
   "metadata": {},
   "source": [
    "## To Do\n",
    "\n",
    "- GridSearch/Random Search for each model: \n",
    "- logistic regression\n",
    "- decision tree  .. .randomforrest, and get feature importance to help refine number of features .. but need lables?\n",
    "- neural network\n",
    "\n",
    "- Repeat with PCA components\n",
    "- Repeat with changes in features\n",
    "- ?? SMOTE\n",
    "\n",
    "- Compare across all models\n",
    "- ?? What are the best evaluation metrics to use? Make sure understand their interpretation\n",
    "\n",
    "!! NB\n",
    "- lower gini index is better"
   ]
  },
  {
   "cell_type": "markdown",
   "metadata": {},
   "source": [
    "## Imports & Functions"
   ]
  },
  {
   "cell_type": "code",
   "execution_count": 1,
   "metadata": {},
   "outputs": [],
   "source": [
    "# Import typically used packages\n",
    "import pandas as pd\n",
    "import numpy as np\n",
    "import sklearn as sk\n",
    "\n",
    "import time\n",
    "\n",
    "# ML Prep & Modelling\n",
    "import sklearn\n",
    "from sklearn.pipeline import make_pipeline\n",
    "from sklearn.model_selection import GridSearchCV, RandomizedSearchCV\n",
    "\n",
    "from sklearn.linear_model import LogisticRegression\n",
    "from sklearn.ensemble import RandomForestClassifier\n",
    "\n",
    "from sklearn.model_selection import cross_val_score\n",
    "from sklearn import metrics\n",
    "from sklearn.metrics import confusion_matrix, ConfusionMatrixDisplay, RocCurveDisplay\n",
    "\n",
    "# Import plotting packages\n",
    "import matplotlib.pyplot as plt\n",
    "plt.style.use('ggplot')\n",
    "#plt.style.use('default')"
   ]
  },
  {
   "cell_type": "code",
   "execution_count": 2,
   "metadata": {},
   "outputs": [],
   "source": [
    "# Function to Present the Evaluation Metrics for a Classification Model\n",
    "\n",
    "def classification_metrics(for_Model, X_test, y_test, y_pred):\n",
    "    plt.style.use('default')\n",
    "\n",
    "    # Calculate Confusion Matrix\n",
    "    cm = confusion_matrix(y_test, y_pred)\n",
    "    tn, fp, fn, tp = cm.ravel()\n",
    "\n",
    "    # Print various metrics\n",
    "    print(f'Accuracy: {metrics.accuracy_score(y_true=y_test, y_pred=y_pred):.4f}')\n",
    "    print(f'Precision: {metrics.precision_score(y_true=y_test, y_pred=y_pred, pos_label=\"yes\"):.4f}')\n",
    "    print(f'Recall: {metrics.recall_score(y_true=y_test, y_pred=y_pred, pos_label=\"yes\"):.4f}')\n",
    "    print(f'F1 Score {metrics.f1_score(y_true=y_test, y_pred=y_pred, pos_label=\"yes\"):.4f}')\n",
    "    print(f'Specificity: {tn / (tn + fp):.4f}')\n",
    "    print(f'Hamming Loss {metrics.hamming_loss(y_true=y_test, y_pred=y_pred):.4f}')\n",
    "\n",
    "\n",
    "    # Plot Confusion Matrix\n",
    "    class_labels = for_Model.classes_\n",
    "    fig, ax = plt.subplots(figsize=(12,4))\n",
    "    ax.set_title('Confusion Matrix')\n",
    "    ConfusionMatrixDisplay(confusion_matrix=cm, display_labels=class_labels).plot(ax=ax)\n",
    "    plt.show\n",
    "\n",
    "    y_probabilities = for_Model.predict_proba(X_test)[:, 1]\n",
    "    roc_auc_score = metrics.roc_auc_score(y_true=y_test, y_score=y_probabilities)\n",
    "    print(f'ROC-AUC Score {roc_auc_score:.4f}')\n",
    "    gini_score = 2 * roc_auc_score - 1\n",
    "    print(f'Gini Index: {gini_score:.4f}')\n",
    "\n",
    "    # Plot the ROC curve\n",
    "    fig, ax = plt.subplots(figsize=(6,4))\n",
    "    ax.set_title('ROC Curve')\n",
    "    roc_display = RocCurveDisplay.from_estimator(for_Model, X_test, y_test, ax=ax, pos_label=\"yes\")\n",
    "    plt.show()\n",
    "\n",
    "    plt.style.use('ggplot')"
   ]
  },
  {
   "cell_type": "code",
   "execution_count": 3,
   "metadata": {},
   "outputs": [],
   "source": [
    "def print_search_results(search, duration):\n",
    "    print('------- Search Results --------')\n",
    "    all_search_results = pd.DataFrame(search.cv_results_)\n",
    "    print(f\"Score: {search.best_score_:.4f}. Mean: {np.mean(all_search_results['mean_test_score']):.4f} and STD {np.std(all_search_results['mean_test_score']):.4f}\")\n",
    "    print(f'Search Took: {duration:.2f} seconds')\n",
    "    print(f\"Best Parameters: {search.best_params_}\")\n",
    "    top_n = 10\n",
    "    print(f\"Top {top_n} out of {len(all_search_results)} combinations:\")\n",
    "    display(all_search_results[['rank_test_score', 'mean_test_score', 'mean_fit_time', 'mean_score_time', 'params']].sort_values(by='rank_test_score').head(top_n))"
   ]
  },
  {
   "cell_type": "markdown",
   "metadata": {},
   "source": [
    "## Load the Data"
   ]
  },
  {
   "cell_type": "code",
   "execution_count": 5,
   "metadata": {},
   "outputs": [],
   "source": [
    "# Load saved dataset\n",
    "import pickle\n",
    "\n",
    "with open('xy_data.pickle', 'rb') as file:\n",
    "    X_train, X_test, y_train, y_test = pickle.load(file)"
   ]
  },
  {
   "cell_type": "markdown",
   "metadata": {},
   "source": [
    "## Temp"
   ]
  },
  {
   "cell_type": "code",
   "execution_count": null,
   "metadata": {},
   "outputs": [],
   "source": [
    "\n"
   ]
  },
  {
   "cell_type": "markdown",
   "metadata": {},
   "source": [
    "## Train Different Models - Logistic Regression"
   ]
  },
  {
   "cell_type": "code",
   "execution_count": null,
   "metadata": {},
   "outputs": [],
   "source": [
    "param_grid = {'class_weight': [{0:1, 1:100}, {0:1, 1:10}, 'balanced']}\n",
    "grid = GridSearchCV(LogisticRegression(solver='lbfgs'), param_grid, scoring='roc_auc')\n",
    "grid.fit(X, y)"
   ]
  },
  {
   "cell_type": "code",
   "execution_count": 25,
   "metadata": {},
   "outputs": [
    {
     "name": "stderr",
     "output_type": "stream",
     "text": [
      "/opt/anaconda3/envs/ml_packages_v3/lib/python3.12/site-packages/sklearn/linear_model/_sag.py:350: ConvergenceWarning: The max_iter was reached which means the coef_ did not converge\n",
      "  warnings.warn(\n",
      "/opt/anaconda3/envs/ml_packages_v3/lib/python3.12/site-packages/sklearn/linear_model/_sag.py:350: ConvergenceWarning: The max_iter was reached which means the coef_ did not converge\n",
      "  warnings.warn(\n"
     ]
    },
    {
     "name": "stdout",
     "output_type": "stream",
     "text": [
      "------- Search Results --------\n",
      "Score: 0.7465. Mean: 0.7449 and STD 0.0010\n",
      "Search Took: 79.66 seconds\n",
      "Best Parameters: {'logisticregression__solver': 'liblinear', 'logisticregression__penalty': 'l2', 'logisticregression__max_iter': 500, 'logisticregression__class_weight': 'balanced', 'logisticregression__C': 0.01}\n",
      "Top 10 out of 10 combinations:\n"
     ]
    },
    {
     "data": {
      "text/html": [
       "<div>\n",
       "<style scoped>\n",
       "    .dataframe tbody tr th:only-of-type {\n",
       "        vertical-align: middle;\n",
       "    }\n",
       "\n",
       "    .dataframe tbody tr th {\n",
       "        vertical-align: top;\n",
       "    }\n",
       "\n",
       "    .dataframe thead th {\n",
       "        text-align: right;\n",
       "    }\n",
       "</style>\n",
       "<table border=\"1\" class=\"dataframe\">\n",
       "  <thead>\n",
       "    <tr style=\"text-align: right;\">\n",
       "      <th></th>\n",
       "      <th>rank_test_score</th>\n",
       "      <th>mean_test_score</th>\n",
       "      <th>mean_fit_time</th>\n",
       "      <th>mean_score_time</th>\n",
       "      <th>params</th>\n",
       "    </tr>\n",
       "  </thead>\n",
       "  <tbody>\n",
       "    <tr>\n",
       "      <th>0</th>\n",
       "      <td>1</td>\n",
       "      <td>0.746521</td>\n",
       "      <td>0.070753</td>\n",
       "      <td>0.011297</td>\n",
       "      <td>{'logisticregression__solver': 'liblinear', 'l...</td>\n",
       "    </tr>\n",
       "    <tr>\n",
       "      <th>5</th>\n",
       "      <td>2</td>\n",
       "      <td>0.746096</td>\n",
       "      <td>4.495525</td>\n",
       "      <td>0.013883</td>\n",
       "      <td>{'logisticregression__solver': 'saga', 'logist...</td>\n",
       "    </tr>\n",
       "    <tr>\n",
       "      <th>2</th>\n",
       "      <td>3</td>\n",
       "      <td>0.746047</td>\n",
       "      <td>0.209946</td>\n",
       "      <td>0.011812</td>\n",
       "      <td>{'logisticregression__solver': 'liblinear', 'l...</td>\n",
       "    </tr>\n",
       "    <tr>\n",
       "      <th>8</th>\n",
       "      <td>4</td>\n",
       "      <td>0.745128</td>\n",
       "      <td>0.080883</td>\n",
       "      <td>0.011034</td>\n",
       "      <td>{'logisticregression__solver': 'liblinear', 'l...</td>\n",
       "    </tr>\n",
       "    <tr>\n",
       "      <th>6</th>\n",
       "      <td>5</td>\n",
       "      <td>0.744536</td>\n",
       "      <td>7.873019</td>\n",
       "      <td>0.014978</td>\n",
       "      <td>{'logisticregression__solver': 'saga', 'logist...</td>\n",
       "    </tr>\n",
       "    <tr>\n",
       "      <th>1</th>\n",
       "      <td>6</td>\n",
       "      <td>0.744191</td>\n",
       "      <td>0.084046</td>\n",
       "      <td>0.010917</td>\n",
       "      <td>{'logisticregression__solver': 'liblinear', 'l...</td>\n",
       "    </tr>\n",
       "    <tr>\n",
       "      <th>9</th>\n",
       "      <td>7</td>\n",
       "      <td>0.744182</td>\n",
       "      <td>0.821533</td>\n",
       "      <td>0.010801</td>\n",
       "      <td>{'logisticregression__solver': 'saga', 'logist...</td>\n",
       "    </tr>\n",
       "    <tr>\n",
       "      <th>3</th>\n",
       "      <td>8</td>\n",
       "      <td>0.744072</td>\n",
       "      <td>0.092063</td>\n",
       "      <td>0.011172</td>\n",
       "      <td>{'logisticregression__solver': 'liblinear', 'l...</td>\n",
       "    </tr>\n",
       "    <tr>\n",
       "      <th>4</th>\n",
       "      <td>8</td>\n",
       "      <td>0.744072</td>\n",
       "      <td>0.102054</td>\n",
       "      <td>0.013272</td>\n",
       "      <td>{'logisticregression__solver': 'liblinear', 'l...</td>\n",
       "    </tr>\n",
       "    <tr>\n",
       "      <th>7</th>\n",
       "      <td>10</td>\n",
       "      <td>0.743655</td>\n",
       "      <td>1.929644</td>\n",
       "      <td>0.010895</td>\n",
       "      <td>{'logisticregression__solver': 'saga', 'logist...</td>\n",
       "    </tr>\n",
       "  </tbody>\n",
       "</table>\n",
       "</div>"
      ],
      "text/plain": [
       "   rank_test_score  mean_test_score  mean_fit_time  mean_score_time  \\\n",
       "0                1         0.746521       0.070753         0.011297   \n",
       "5                2         0.746096       4.495525         0.013883   \n",
       "2                3         0.746047       0.209946         0.011812   \n",
       "8                4         0.745128       0.080883         0.011034   \n",
       "6                5         0.744536       7.873019         0.014978   \n",
       "1                6         0.744191       0.084046         0.010917   \n",
       "9                7         0.744182       0.821533         0.010801   \n",
       "3                8         0.744072       0.092063         0.011172   \n",
       "4                8         0.744072       0.102054         0.013272   \n",
       "7               10         0.743655       1.929644         0.010895   \n",
       "\n",
       "                                              params  \n",
       "0  {'logisticregression__solver': 'liblinear', 'l...  \n",
       "5  {'logisticregression__solver': 'saga', 'logist...  \n",
       "2  {'logisticregression__solver': 'liblinear', 'l...  \n",
       "8  {'logisticregression__solver': 'liblinear', 'l...  \n",
       "6  {'logisticregression__solver': 'saga', 'logist...  \n",
       "1  {'logisticregression__solver': 'liblinear', 'l...  \n",
       "9  {'logisticregression__solver': 'saga', 'logist...  \n",
       "3  {'logisticregression__solver': 'liblinear', 'l...  \n",
       "4  {'logisticregression__solver': 'liblinear', 'l...  \n",
       "7  {'logisticregression__solver': 'saga', 'logist...  "
      ]
     },
     "metadata": {},
     "output_type": "display_data"
    },
    {
     "name": "stdout",
     "output_type": "stream",
     "text": [
      "Accuracy: 0.6872\n",
      "Precision: 0.3425\n",
      "Recall: 0.6817\n",
      "F1 Score 0.4560\n",
      "Specificity: 0.6885\n",
      "Hamming Loss 0.3128\n",
      "ROC-AUC Score 0.7492\n",
      "Gini Index: 0.4985\n"
     ]
    },
    {
     "data": {
      "image/png": "[encoded data removed]",
      "text/plain": [
       "<Figure size 1200x400 with 2 Axes>"
      ]
     },
     "metadata": {},
     "output_type": "display_data"
    },
    {
     "data": {
      "image/png": "[encoded data removed]",
      "text/plain": [
       "<Figure size 600x400 with 1 Axes>"
      ]
     },
     "metadata": {},
     "output_type": "display_data"
    }
   ],
   "source": [
    "# Logistic Regression\n",
    "# Establish a pipeline for a randomised search & get the best fitted model\n",
    "\n",
    "logreg_pipeline = make_pipeline(\n",
    "    LogisticRegression(random_state=42)\n",
    ")\n",
    "grid_params = {\n",
    "    'logisticregression__penalty': ['l1', 'l2'],                # L1 or L2 regularisation\n",
    "    'logisticregression__solver': ['saga', 'liblinear'],        # Saga is a variant of Sag. With L1 or l2. Large dataset. liblinear is for small datasets, binary classifications\n",
    "    'logisticregression__C': [0.01, 0.1, 1, 5],                 # Strength of regularisation, default is 1, smaller is stronger\n",
    "    'logisticregression__max_iter': [500, 600],                 # Max 500 iterations seems to be sufficient\n",
    "    'logisticregression__class_weight': ['balanced']  \n",
    "}                       \n",
    "\n",
    "# Run the search\n",
    "start_time = time.perf_counter()\n",
    "#rand_search = RandomizedSearchCV(logreg_pipeline, grid_params, scoring='roc_auc', cv=5, refit='accuracy')\n",
    "rand_search = RandomizedSearchCV(logreg_pipeline, grid_params, scoring='roc_auc', cv=5)\n",
    "rand_search.fit(X_train, y_train)\n",
    "duration = time.perf_counter() - start_time\n",
    "\n",
    "# Show the results\n",
    "print_search_results(rand_search, duration)\n",
    "\n",
    "# Get the Best Model & Calculate Predicted Y and Evaluate\n",
    "model_logreg_rand = rand_search.best_estimator_\n",
    "y_pred = model_logreg_rand.predict(X_test)\n",
    "classification_metrics(model_logreg_rand, X_test, y_test, y_pred)"
   ]
  },
  {
   "cell_type": "code",
   "execution_count": null,
   "metadata": {},
   "outputs": [],
   "source": [
    "# Logistic Regression\n",
    "# Establish a pipeline for a randomised search & get the best fitted model\n",
    "\n",
    "logreg_pipeline = make_pipeline(\n",
    "    LogisticRegression(random_state=42)\n",
    ")\n",
    "grid_params = {\n",
    "    'logisticregression__penalty': ['l1', 'l2'],                # L1 or L2 regularisation\n",
    "    'logisticregression__solver': ['saga', 'liblinear'],        # Saga is a variant of Sag. With L1 or l2. Large dataset. liblinear is for small datasets, binary classifications\n",
    "    'logisticregression__C': [0.01, 0.1, 1, 5],                 # Strength of regularisation, default is 1, smaller is stronger\n",
    "    'logisticregression__max_iter': [1000]                  # Max 500 iterations seems to be sufficient\n",
    "}                       \n",
    "\n",
    "# Run the search\n",
    "start_time = time.perf_counter()\n",
    "rand_search = RandomizedSearchCV(logreg_pipeline, grid_params, scoring='accuracy', cv=5, refit='accuracy')\n",
    "rand_search.fit(X_train, y_train)\n",
    "duration = time.perf_counter() - start_time\n",
    "\n",
    "# Show the results\n",
    "print_search_results(rand_search, duration)\n",
    "\n",
    "# Get the Best Model & Calculate Predicted Y and Evaluate\n",
    "model_logreg_rand = rand_search.best_estimator_\n",
    "y_pred = model_logreg_rand.predict(X_test)\n",
    "classification_metrics(model_logreg_rand, X_test, y_test, y_pred)\n"
   ]
  },
  {
   "cell_type": "code",
   "execution_count": 7,
   "metadata": {},
   "outputs": [
    {
     "name": "stdout",
     "output_type": "stream",
     "text": [
      "------- Search Results --------\n",
      "Score: 0.8200. Mean: 0.8176 and STD 0.0038\n",
      "Search Took: 41.63 seconds\n",
      "Best Parameters: {'logisticregression__solver': 'saga', 'logisticregression__penalty': 'l1', 'logisticregression__max_iter': 1000, 'logisticregression__C': 1}\n",
      "Top 10 out of 10 combinations:\n"
     ]
    },
    {
     "data": {
      "text/html": [
       "<div>\n",
       "<style scoped>\n",
       "    .dataframe tbody tr th:only-of-type {\n",
       "        vertical-align: middle;\n",
       "    }\n",
       "\n",
       "    .dataframe tbody tr th {\n",
       "        vertical-align: top;\n",
       "    }\n",
       "\n",
       "    .dataframe thead th {\n",
       "        text-align: right;\n",
       "    }\n",
       "</style>\n",
       "<table border=\"1\" class=\"dataframe\">\n",
       "  <thead>\n",
       "    <tr style=\"text-align: right;\">\n",
       "      <th></th>\n",
       "      <th>rank_test_score</th>\n",
       "      <th>mean_test_score</th>\n",
       "      <th>mean_fit_time</th>\n",
       "      <th>mean_score_time</th>\n",
       "      <th>params</th>\n",
       "    </tr>\n",
       "  </thead>\n",
       "  <tbody>\n",
       "    <tr>\n",
       "      <th>1</th>\n",
       "      <td>1</td>\n",
       "      <td>0.820026</td>\n",
       "      <td>4.398982</td>\n",
       "      <td>0.011598</td>\n",
       "      <td>{'logisticregression__solver': 'saga', 'logist...</td>\n",
       "    </tr>\n",
       "    <tr>\n",
       "      <th>2</th>\n",
       "      <td>2</td>\n",
       "      <td>0.819902</td>\n",
       "      <td>0.716923</td>\n",
       "      <td>0.008696</td>\n",
       "      <td>{'logisticregression__solver': 'saga', 'logist...</td>\n",
       "    </tr>\n",
       "    <tr>\n",
       "      <th>8</th>\n",
       "      <td>3</td>\n",
       "      <td>0.819804</td>\n",
       "      <td>0.817637</td>\n",
       "      <td>0.008514</td>\n",
       "      <td>{'logisticregression__solver': 'saga', 'logist...</td>\n",
       "    </tr>\n",
       "    <tr>\n",
       "      <th>6</th>\n",
       "      <td>4</td>\n",
       "      <td>0.819508</td>\n",
       "      <td>0.162241</td>\n",
       "      <td>0.008031</td>\n",
       "      <td>{'logisticregression__solver': 'liblinear', 'l...</td>\n",
       "    </tr>\n",
       "    <tr>\n",
       "      <th>3</th>\n",
       "      <td>5</td>\n",
       "      <td>0.819310</td>\n",
       "      <td>0.624459</td>\n",
       "      <td>0.008113</td>\n",
       "      <td>{'logisticregression__solver': 'saga', 'logist...</td>\n",
       "    </tr>\n",
       "    <tr>\n",
       "      <th>0</th>\n",
       "      <td>6</td>\n",
       "      <td>0.819211</td>\n",
       "      <td>0.129458</td>\n",
       "      <td>0.008540</td>\n",
       "      <td>{'logisticregression__solver': 'liblinear', 'l...</td>\n",
       "    </tr>\n",
       "    <tr>\n",
       "      <th>7</th>\n",
       "      <td>7</td>\n",
       "      <td>0.818940</td>\n",
       "      <td>0.067877</td>\n",
       "      <td>0.008050</td>\n",
       "      <td>{'logisticregression__solver': 'liblinear', 'l...</td>\n",
       "    </tr>\n",
       "    <tr>\n",
       "      <th>4</th>\n",
       "      <td>8</td>\n",
       "      <td>0.818101</td>\n",
       "      <td>0.111793</td>\n",
       "      <td>0.008732</td>\n",
       "      <td>{'logisticregression__solver': 'liblinear', 'l...</td>\n",
       "    </tr>\n",
       "    <tr>\n",
       "      <th>9</th>\n",
       "      <td>9</td>\n",
       "      <td>0.813758</td>\n",
       "      <td>0.054712</td>\n",
       "      <td>0.007955</td>\n",
       "      <td>{'logisticregression__solver': 'liblinear', 'l...</td>\n",
       "    </tr>\n",
       "    <tr>\n",
       "      <th>5</th>\n",
       "      <td>10</td>\n",
       "      <td>0.807392</td>\n",
       "      <td>0.068144</td>\n",
       "      <td>0.008509</td>\n",
       "      <td>{'logisticregression__solver': 'liblinear', 'l...</td>\n",
       "    </tr>\n",
       "  </tbody>\n",
       "</table>\n",
       "</div>"
      ],
      "text/plain": [
       "   rank_test_score  mean_test_score  mean_fit_time  mean_score_time  \\\n",
       "1                1         0.820026       4.398982         0.011598   \n",
       "2                2         0.819902       0.716923         0.008696   \n",
       "8                3         0.819804       0.817637         0.008514   \n",
       "6                4         0.819508       0.162241         0.008031   \n",
       "3                5         0.819310       0.624459         0.008113   \n",
       "0                6         0.819211       0.129458         0.008540   \n",
       "7                7         0.818940       0.067877         0.008050   \n",
       "4                8         0.818101       0.111793         0.008732   \n",
       "9                9         0.813758       0.054712         0.007955   \n",
       "5               10         0.807392       0.068144         0.008509   \n",
       "\n",
       "                                              params  \n",
       "1  {'logisticregression__solver': 'saga', 'logist...  \n",
       "2  {'logisticregression__solver': 'saga', 'logist...  \n",
       "8  {'logisticregression__solver': 'saga', 'logist...  \n",
       "6  {'logisticregression__solver': 'liblinear', 'l...  \n",
       "3  {'logisticregression__solver': 'saga', 'logist...  \n",
       "0  {'logisticregression__solver': 'liblinear', 'l...  \n",
       "7  {'logisticregression__solver': 'liblinear', 'l...  \n",
       "4  {'logisticregression__solver': 'liblinear', 'l...  \n",
       "9  {'logisticregression__solver': 'liblinear', 'l...  \n",
       "5  {'logisticregression__solver': 'liblinear', 'l...  "
      ]
     },
     "metadata": {},
     "output_type": "display_data"
    }
   ],
   "source": [
    "# Show the results\n",
    "print_search_results(rand_search, duration)"
   ]
  },
  {
   "cell_type": "code",
   "execution_count": 9,
   "metadata": {},
   "outputs": [
    {
     "name": "stdout",
     "output_type": "stream",
     "text": [
      "Accuracy: 0.8260\n",
      "Precision: 0.6448\n",
      "Recall: 0.2115\n",
      "F1 Score 0.3185\n",
      "Specificity: 0.9723\n",
      "Hamming Loss 0.1740\n",
      "ROC-AUC Score 0.7459\n",
      "Gini Index: 0.4918\n"
     ]
    },
    {
     "data": {
      "image/png": "[encoded data removed]",
      "text/plain": [
       "<Figure size 1200x400 with 2 Axes>"
      ]
     },
     "metadata": {},
     "output_type": "display_data"
    },
    {
     "data": {
      "image/png": "[encoded data removed]",
      "text/plain": [
       "<Figure size 600x400 with 1 Axes>"
      ]
     },
     "metadata": {},
     "output_type": "display_data"
    }
   ],
   "source": [
    "# Get the Best Model & Calculate Predicted Y and Evaluate\n",
    "model_logreg_rand = rand_search.best_estimator_\n",
    "y_pred = model_logreg_rand.predict(X_test)\n",
    "classification_metrics(model_logreg_rand, X_test, y_test, y_pred)"
   ]
  },
  {
   "cell_type": "code",
   "execution_count": null,
   "metadata": {},
   "outputs": [],
   "source": [
    "# Logistic Regression\n",
    "# Establish a pipeline for a grid search & get the best fitted model\n",
    "\n",
    "logreg_pipeline = make_pipeline(\n",
    "    LogisticRegression(random_state=42)\n",
    ")\n",
    "grid_params = {\n",
    "    'logisticregression__penalty': ['l1', 'l2'],                # L1 or L2 regularisation\n",
    "    'logisticregression__solver': ['saga', 'liblinear'],        # Saga is a variant of Sag. With L1 or l2. Large dataset. liblinear is for small datasets, binary classifications\n",
    "    'logisticregression__C': [0.01, 0.1, 1, 5],                 # Strength of regularisation, default is 1, smaller is stronger\n",
    "    'logisticregression__max_iter': [500]                       # Max 500 iterations seems to be sufficient\n",
    "}                       \n",
    "\n",
    "# Run the search\n",
    "start_time = time.perf_counter()\n",
    "grid_search = GridSearchCV(logreg_pipeline, grid_params, scoring='accuracy', cv=5, refit='accuracy')\n",
    "grid_search.fit(X_train, y_train)\n",
    "duration = time.perf_counter() - start_time\n"
   ]
  },
  {
   "cell_type": "code",
   "execution_count": null,
   "metadata": {},
   "outputs": [],
   "source": [
    "# Show the results\n",
    "print_search_results(grid_search, duration)"
   ]
  },
  {
   "cell_type": "code",
   "execution_count": null,
   "metadata": {},
   "outputs": [],
   "source": [
    "# Get the Best Model & Calculate Predicted Y and Evaluate\n",
    "\n",
    "model_logreg = grid_search.best_estimator_\n",
    "y_pred = model_logreg.predict(X_test)\n",
    "classification_metrics(model_logreg, y_test, y_pred)"
   ]
  },
  {
   "cell_type": "markdown",
   "metadata": {},
   "source": [
    "## Train Different Models - Decision Tree"
   ]
  },
  {
   "cell_type": "code",
   "execution_count": null,
   "metadata": {},
   "outputs": [],
   "source": [
    "# Decision Tree\n",
    "# Establish a pipeline for a grid search & get the best fitted model\n",
    "\n",
    "randforest_pipeline = make_pipeline(\n",
    "    RandomForestClassifier(random_state=42)\n",
    ")\n",
    "grid_params = {\n",
    "    'randomforestclassifier__n_estimators': [200, 400],            # Number of trees\n",
    "    'randomforestclassifier__max_depth': [25, 50],\n",
    "    'randomforestclassifier__max_leaf_nodes': [5, 50],\n",
    "    'randomforestclassifier__min_samples_split': [2, 5],\n",
    "    'randomforestclassifier__class_weight': ['balanced']    # Gives more importance to minority classes ... ?? Improves recall at the expense of precision\n",
    "}                       \n",
    "\n",
    "# Run the search\n",
    "start_time = time.perf_counter()\n",
    "grid_search = GridSearchCV(randforest_pipeline, grid_params, cv=5)\n",
    "grid_search.fit(X_train, y_train)\n",
    "duration = time.perf_counter() - start_time"
   ]
  },
  {
   "cell_type": "code",
   "execution_count": null,
   "metadata": {},
   "outputs": [],
   "source": [
    "# Show the results\n",
    "print_search_results(grid_search, duration)\n"
   ]
  },
  {
   "cell_type": "code",
   "execution_count": null,
   "metadata": {},
   "outputs": [],
   "source": [
    "# Get the Best Model & Calculate Predicted Y and Evaluate\n",
    "\n",
    "model_randforest = grid_search.best_estimator_\n",
    "y_pred = model_randforest.predict(X_test)\n",
    "classification_metrics(model_randforest, y_test, y_pred)"
   ]
  },
  {
   "cell_type": "code",
   "execution_count": null,
   "metadata": {},
   "outputs": [],
   "source": [
    "# Feature importance from the trained model\n",
    "\n",
    "# Assuming you have the feature names stored in a list called feature_names\n",
    "# Ensure feature_names has the correct length\n",
    "feature_names = [f'feature{i+1}' for i in range(X_train.shape[1])]  # Replace with actual feature names if available\n",
    "\n",
    "feature_importances = pd.Series(model_randforest.named_steps['randomforestclassifier'].feature_importances_, index=feature_names).sort_values(ascending=False)\n",
    "print(feature_importances)\n"
   ]
  },
  {
   "cell_type": "markdown",
   "metadata": {},
   "source": [
    "?? Metrics\n",
    "- entropy\n",
    "- log loss"
   ]
  },
  {
   "cell_type": "markdown",
   "metadata": {},
   "source": [
    "## Apply PCA"
   ]
  },
  {
   "cell_type": "code",
   "execution_count": null,
   "metadata": {},
   "outputs": [],
   "source": []
  },
  {
   "cell_type": "code",
   "execution_count": null,
   "metadata": {},
   "outputs": [],
   "source": [
    "# Decision Tree\n",
    "# Establish a pipeline for a grid search & get the best fitted model\n",
    "\n",
    "from sklearn.decomposition import PCA\n",
    "X_train_dense = X_train.toarray()\n",
    "X_test_dense = X_test.toarray()\n",
    "\n",
    "randforest_pipeline = make_pipeline(\n",
    "    PCA(random_state=42),\n",
    "    RandomForestClassifier(random_state=42)\n",
    ")\n",
    "grid_params = {\n",
    "    'pca__n_components': [40],                           # PCA to reduce from 135 components. Reduces execution time. 40 seems ok\n",
    "    'randomforestclassifier__n_estimators': [150],        # Number of trees\n",
    "    'randomforestclassifier__max_depth': [10, 25],\n",
    "    'randomforestclassifier__max_leaf_nodes': [5, 50],\n",
    "    'randomforestclassifier__min_samples_split': [2, 5],\n",
    "}                       \n",
    "\n",
    "# Run the search\n",
    "start_time = time.perf_counter()\n",
    "grid_search_s = GridSearchCV(randforest_pipeline, grid_params, cv=5)\n",
    "grid_search_s.fit(X_train_dense, y_train)\n",
    "duration = time.perf_counter() - start_time\n",
    "\n",
    "# Show the results\n",
    "print_search_results(grid_search_s, duration)\n",
    "\n",
    "# Get the Best Model & Calculate Predicted Y and Evaluate\n",
    "model_randforest_S = grid_search_s.best_estimator_\n",
    "y_pred = model_randforest_S.predict(X_test_dense)\n",
    "classification_metrics(model_randforest_S, X_test_dense, y_test, y_pred)\n"
   ]
  },
  {
   "cell_type": "code",
   "execution_count": null,
   "metadata": {},
   "outputs": [],
   "source": [
    "# Show the results\n",
    "print_search_results(grid_search_s, duration)\n",
    "\n",
    "# Get the Best Model & Calculate Predicted Y and Evaluate\n",
    "model_randforest_S = grid_search_s.best_estimator_\n",
    "y_pred = model_randforest_S.predict(X_test_dense)\n",
    "classification_metrics(model_randforest_S, X_test_dense, y_test, y_pred)"
   ]
  },
  {
   "cell_type": "markdown",
   "metadata": {},
   "source": [
    "## Apply SMOTE"
   ]
  },
  {
   "cell_type": "code",
   "execution_count": null,
   "metadata": {},
   "outputs": [],
   "source": [
    "from imblearn.over_sampling import SMOTE\n",
    "\n",
    "smote = SMOTE(random_state=42)\n",
    "X_resampled, y_resampled = smote.fit_resample(X_train, y_train)"
   ]
  },
  {
   "cell_type": "code",
   "execution_count": null,
   "metadata": {},
   "outputs": [],
   "source": [
    "from imblearn.over_sampling import SMOTENC\n",
    "\n",
    "smotenc = SMOTENC(categorical_features=, random_state=42)\n",
    "X_resampled, y_resampled = smotenc.fit_resample(X_train, y_train)"
   ]
  },
  {
   "cell_type": "code",
   "execution_count": null,
   "metadata": {},
   "outputs": [],
   "source": [
    "# Decision Tree\n",
    "# Establish a pipeline for a grid search & get the best fitted model\n",
    "\n",
    "randforest_pipeline = make_pipeline(\n",
    "    RandomForestClassifier(random_state=42)\n",
    ")\n",
    "grid_params = {\n",
    "    'randomforestclassifier__n_estimators': [10],            # Number of trees\n",
    "    'randomforestclassifier__max_depth': [10, 50],\n",
    "    'randomforestclassifier__max_leaf_nodes': [5, 50],\n",
    "    'randomforestclassifier__min_samples_split': [2, 5],\n",
    "}                       \n",
    "\n",
    "# Run the search\n",
    "start_time = time.perf_counter()\n",
    "grid_search_s = GridSearchCV(randforest_pipeline, grid_params, cv=5)\n",
    "grid_search_s.fit(X_resampled, y_resampled)\n",
    "duration = time.perf_counter() - start_time"
   ]
  },
  {
   "cell_type": "code",
   "execution_count": null,
   "metadata": {},
   "outputs": [],
   "source": [
    "# Show the results\n",
    "print_search_results(grid_search_s, duration)\n",
    "\n",
    "# Get the Best Model & Calculate Predicted Y and Evaluate\n",
    "\n",
    "model_randforest_S = grid_search_s.best_estimator_\n",
    "y_pred = model_randforest_S.predict(X_test)\n",
    "classification_metrics(model_randforest_S, y_test, y_pred)"
   ]
  },
  {
   "cell_type": "code",
   "execution_count": null,
   "metadata": {},
   "outputs": [],
   "source": [
    "# Get the Best Model & Calculate Predicted Y and Evaluate\n",
    "\n",
    "model_randforest_S = grid_search_s.best_estimator_\n",
    "y_pred = model_randforest_S.predict(X_test)\n",
    "classification_metrics(model_randforest_S, y_test, y_pred)"
   ]
  }
 ],
 "metadata": {
  "kernelspec": {
   "display_name": "ml_packages_v3",
   "language": "python",
   "name": "python3"
  },
  "language_info": {
   "codemirror_mode": {
    "name": "ipython",
    "version": 3
   },
   "file_extension": ".py",
   "mimetype": "text/x-python",
   "name": "python",
   "nbconvert_exporter": "python",
   "pygments_lexer": "ipython3",
   "version": "3.12.9"
  }
 },
 "nbformat": 4,
 "nbformat_minor": 2
}
