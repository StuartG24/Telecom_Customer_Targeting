{
 "cells": [
  {
   "cell_type": "markdown",
   "metadata": {},
   "source": [
    "# 2. Models Evaluation\n"
   ]
  },
  {
   "cell_type": "markdown",
   "metadata": {},
   "source": [
    "## To Do\n",
    "\n",
    "- GridSearch/Random Search for each model: \n",
    "- logistic regression\n",
    "- decision tree  .. .randomforrest, and get feature importance to help refine number of features .. but need lables?\n",
    "- neural network\n",
    "\n",
    "- Repeat with PCA components\n",
    "- Repeat with changes in features\n",
    "- ?? SMOTE\n",
    "\n",
    "- Compare across all models\n",
    "- ?? What are the best evaluation metrics to use? Make sure understand their interpretation\n",
    "\n",
    "!! NB\n",
    "- lower gini index is better"
   ]
  },
  {
   "cell_type": "markdown",
   "metadata": {},
   "source": [
    "## Imports & Functions"
   ]
  },
  {
   "cell_type": "code",
   "execution_count": 16,
   "metadata": {},
   "outputs": [],
   "source": [
    "# Import typically used packages\n",
    "import pandas as pd\n",
    "import numpy as np\n",
    "import sklearn as sk\n",
    "\n",
    "import time\n",
    "\n",
    "# ML Prep & Modelling\n",
    "import sklearn\n",
    "from sklearn.pipeline import make_pipeline\n",
    "from sklearn.model_selection import GridSearchCV, RandomizedSearchCV\n",
    "\n",
    "from sklearn.linear_model import LogisticRegression\n",
    "from sklearn.ensemble import RandomForestClassifier\n",
    "\n",
    "from sklearn.model_selection import cross_val_score\n",
    "from sklearn import metrics\n",
    "from sklearn.metrics import confusion_matrix, ConfusionMatrixDisplay, RocCurveDisplay\n",
    "\n",
    "# Import plotting packages\n",
    "import matplotlib.pyplot as plt\n",
    "plt.style.use('ggplot')\n",
    "#plt.style.use('default')"
   ]
  },
  {
   "cell_type": "code",
   "execution_count": 17,
   "metadata": {},
   "outputs": [],
   "source": [
    "# Function to Present the Evaluation Metrics for a Classification Model\n",
    "\n",
    "def classification_metrics(for_Model, X_test, y_test, y_pred):\n",
    "    plt.style.use('default')\n",
    "\n",
    "    # Calculate Confusion Matrix\n",
    "    cm = confusion_matrix(y_test, y_pred)\n",
    "    tn, fp, fn, tp = cm.ravel()\n",
    "\n",
    "    # Print various metrics\n",
    "    print(f'Accuracy: {metrics.accuracy_score(y_true=y_test, y_pred=y_pred):.4f}')\n",
    "    print(f'Precision: {metrics.precision_score(y_true=y_test, y_pred=y_pred, pos_label=\"yes\"):.4f}')\n",
    "    print(f'Recall: {metrics.recall_score(y_true=y_test, y_pred=y_pred, pos_label=\"yes\"):.4f}')\n",
    "    print(f'F1 Score {metrics.f1_score(y_true=y_test, y_pred=y_pred, pos_label=\"yes\"):.4f}')\n",
    "    print(f'Specificity: {tn / (tn + fp):.4f}')\n",
    "    print(f'Hamming Loss {metrics.hamming_loss(y_true=y_test, y_pred=y_pred):.4f}')\n",
    "\n",
    "\n",
    "    # Plot Confusion Matrix\n",
    "    class_labels = for_Model.classes_\n",
    "    fig, ax = plt.subplots(figsize=(12,4))\n",
    "    ax.set_title('Confusion Matrix')\n",
    "    ConfusionMatrixDisplay(confusion_matrix=cm, display_labels=class_labels).plot(ax=ax)\n",
    "    plt.show\n",
    "\n",
    "    y_probabilities = for_Model.predict_proba(X_test)[:, 1]\n",
    "    roc_auc_score = metrics.roc_auc_score(y_true=y_test, y_score=y_probabilities)\n",
    "    print(f'ROC-AUC Score {roc_auc_score:.4f}')\n",
    "    gini_score = 2 * roc_auc_score - 1\n",
    "    print(f'Gini Index: {gini_score:.4f}')\n",
    "\n",
    "    # Plot the ROC curve\n",
    "    fig, ax = plt.subplots(figsize=(6,4))\n",
    "    ax.set_title('ROC Curve')\n",
    "    roc_display = RocCurveDisplay.from_estimator(for_Model, X_test, y_test, ax=ax, pos_label=\"yes\")\n",
    "    plt.show()\n",
    "\n",
    "    plt.style.use('ggplot')"
   ]
  },
  {
   "cell_type": "code",
   "execution_count": 18,
   "metadata": {},
   "outputs": [],
   "source": [
    "def print_search_results(search, duration):\n",
    "    print('------- Search Results --------')\n",
    "    all_search_results = pd.DataFrame(search.cv_results_)\n",
    "    print(f\"Score: {search.best_score_:.4f}. Mean: {np.mean(all_search_results['mean_test_score']):.4f} and STD {np.std(all_search_results['mean_test_score']):.4f}\")\n",
    "    print(f'Search Took: {duration:.2f} seconds')\n",
    "    print(f\"Best Parameters: {search.best_params_}\")\n",
    "    top_n = 10\n",
    "    print(f\"Top {top_n} out of {len(all_search_results)} combinations:\")\n",
    "    display(all_search_results[['rank_test_score', 'mean_test_score', 'mean_fit_time', 'mean_score_time', 'params']].sort_values(by='rank_test_score').head(top_n))"
   ]
  },
  {
   "cell_type": "markdown",
   "metadata": {},
   "source": [
    "## Load the Data"
   ]
  },
  {
   "cell_type": "code",
   "execution_count": 19,
   "metadata": {},
   "outputs": [],
   "source": [
    "# Load saved dataset\n",
    "import pickle\n",
    "\n",
    "with open('xy_data.pickle', 'rb') as file:\n",
    "    X_train, X_test, y_train, y_test = pickle.load(file)"
   ]
  },
  {
   "cell_type": "markdown",
   "metadata": {},
   "source": [
    "## Temp"
   ]
  },
  {
   "cell_type": "code",
   "execution_count": null,
   "metadata": {},
   "outputs": [],
   "source": [
    "\n"
   ]
  },
  {
   "cell_type": "markdown",
   "metadata": {},
   "source": [
    "## Train Different Models - Logistic Regression"
   ]
  },
  {
   "cell_type": "code",
   "execution_count": 21,
   "metadata": {},
   "outputs": [
    {
     "ename": "NameError",
     "evalue": "name 'X' is not defined",
     "output_type": "error",
     "traceback": [
      "\u001b[0;31m---------------------------------------------------------------------------\u001b[0m",
      "\u001b[0;31mNameError\u001b[0m                                 Traceback (most recent call last)",
      "Cell \u001b[0;32mIn[21], line 3\u001b[0m\n\u001b[1;32m      1\u001b[0m param_grid \u001b[38;5;241m=\u001b[39m {\u001b[38;5;124m'\u001b[39m\u001b[38;5;124mclass_weight\u001b[39m\u001b[38;5;124m'\u001b[39m: [{\u001b[38;5;241m0\u001b[39m:\u001b[38;5;241m1\u001b[39m, \u001b[38;5;241m1\u001b[39m:\u001b[38;5;241m100\u001b[39m}, {\u001b[38;5;241m0\u001b[39m:\u001b[38;5;241m1\u001b[39m, \u001b[38;5;241m1\u001b[39m:\u001b[38;5;241m10\u001b[39m}, \u001b[38;5;124m'\u001b[39m\u001b[38;5;124mbalanced\u001b[39m\u001b[38;5;124m'\u001b[39m]}\n\u001b[1;32m      2\u001b[0m grid \u001b[38;5;241m=\u001b[39m GridSearchCV(LogisticRegression(solver\u001b[38;5;241m=\u001b[39m\u001b[38;5;124m'\u001b[39m\u001b[38;5;124mlbfgs\u001b[39m\u001b[38;5;124m'\u001b[39m), param_grid, scoring\u001b[38;5;241m=\u001b[39m\u001b[38;5;124m'\u001b[39m\u001b[38;5;124mroc_auc\u001b[39m\u001b[38;5;124m'\u001b[39m)\n\u001b[0;32m----> 3\u001b[0m grid\u001b[38;5;241m.\u001b[39mfit(X, y)\n",
      "\u001b[0;31mNameError\u001b[0m: name 'X' is not defined"
     ]
    }
   ],
   "source": [
    "param_grid = {'class_weight': [{0:1, 1:100}, {0:1, 1:10}, 'balanced']}\n",
    "grid = GridSearchCV(LogisticRegression(solver='lbfgs'), param_grid, scoring='roc_auc')\n",
    "grid.fit(X, y)"
   ]
  },
  {
   "cell_type": "code",
   "execution_count": null,
   "metadata": {},
   "outputs": [],
   "source": [
    "# Logistic Regression\n",
    "# Establish a pipeline for a randomised search & get the best fitted model\n",
    "\n",
    "logreg_pipeline = make_pipeline(\n",
    "    LogisticRegression(random_state=42)\n",
    ")\n",
    "grid_params = {\n",
    "    'logisticregression__penalty': ['l1', 'l2'],                # L1 or L2 regularisation\n",
    "    'logisticregression__solver': ['saga', 'liblinear'],        # Saga is a variant of Sag. With L1 or l2. Large dataset. liblinear is for small datasets, binary classifications\n",
    "    'logisticregression__C': [0.01, 0.1, 1, 5],                 # Strength of regularisation, default is 1, smaller is stronger\n",
    "    'logisticregression__max_iter': [500, 600],                 # Max 500 iterations seems to be sufficient\n",
    "    'logisticregression__class_weight': ['balanced']  \n",
    "}                       \n",
    "\n",
    "# Run the search\n",
    "start_time = time.perf_counter()\n",
    "#rand_search = RandomizedSearchCV(logreg_pipeline, grid_params, scoring='roc_auc', cv=5, refit='accuracy')\n",
    "rand_search = RandomizedSearchCV(logreg_pipeline, grid_params, scoring='roc_auc', cv=5)\n",
    "rand_search.fit(X_train, y_train)\n",
    "duration = time.perf_counter() - start_time\n",
    "\n",
    "# Show the results\n",
    "print_search_results(rand_search, duration)\n",
    "print(rand_search.cv_results_)\n",
    "\n",
    "# Get the Best Model & Calculate Predicted Y and Evaluate\n",
    "model_logreg_rand = rand_search.best_estimator_\n",
    "print(model_logreg_rand)\n",
    "print(rand_search.best_score_)\n",
    "print(rand_search.best_params_)\n",
    "\n",
    "y_pred = model_logreg_rand.predict(X_test)\n",
    "classification_metrics(model_logreg_rand, X_test, y_test, y_pred)"
   ]
  },
  {
   "cell_type": "code",
   "execution_count": null,
   "metadata": {},
   "outputs": [],
   "source": [
    "# Logistic Regression\n",
    "# Establish a pipeline for a randomised search & get the best fitted model\n",
    "\n",
    "logreg_pipeline = make_pipeline(\n",
    "    LogisticRegression(random_state=42)\n",
    ")\n",
    "grid_params = {\n",
    "    'logisticregression__penalty': ['l1', 'l2'],                # L1 or L2 regularisation\n",
    "    'logisticregression__solver': ['saga', 'liblinear'],        # Saga is a variant of Sag. With L1 or l2. Large dataset. liblinear is for small datasets, binary classifications\n",
    "    'logisticregression__C': [0.01, 0.1, 1, 5],                 # Strength of regularisation, default is 1, smaller is stronger\n",
    "    'logisticregression__max_iter': [1000]                  # Max 500 iterations seems to be sufficient\n",
    "}                       \n",
    "\n",
    "# Run the search\n",
    "start_time = time.perf_counter()\n",
    "rand_search = RandomizedSearchCV(logreg_pipeline, grid_params, scoring='accuracy', cv=5, refit='accuracy')\n",
    "rand_search.fit(X_train, y_train)\n",
    "duration = time.perf_counter() - start_time\n",
    "\n",
    "# Show the results\n",
    "print_search_results(rand_search, duration)\n",
    "\n",
    "# Get the Best Model & Calculate Predicted Y and Evaluate\n",
    "model_logreg_rand = rand_search.best_estimator_\n",
    "y_pred = model_logreg_rand.predict(X_test)\n",
    "classification_metrics(model_logreg_rand, X_test, y_test, y_pred)\n"
   ]
  },
  {
   "cell_type": "code",
   "execution_count": null,
   "metadata": {},
   "outputs": [],
   "source": []
  },
  {
   "cell_type": "code",
   "execution_count": null,
   "metadata": {},
   "outputs": [],
   "source": [
    "# Show the results\n",
    "print_search_results(rand_search, duration)"
   ]
  },
  {
   "cell_type": "code",
   "execution_count": null,
   "metadata": {},
   "outputs": [],
   "source": [
    "# Get the Best Model & Calculate Predicted Y and Evaluate\n",
    "model_logreg_rand = rand_search.best_estimator_\n",
    "y_pred = model_logreg_rand.predict(X_test)\n",
    "classification_metrics(model_logreg_rand, X_test, y_test, y_pred)"
   ]
  },
  {
   "cell_type": "code",
   "execution_count": null,
   "metadata": {},
   "outputs": [],
   "source": [
    "# Logistic Regression\n",
    "# Establish a pipeline for a grid search & get the best fitted model\n",
    "\n",
    "logreg_pipeline = make_pipeline(\n",
    "    LogisticRegression(random_state=42)\n",
    ")\n",
    "grid_params = {\n",
    "    'logisticregression__penalty': ['l1', 'l2'],                # L1 or L2 regularisation\n",
    "    'logisticregression__solver': ['saga', 'liblinear'],        # Saga is a variant of Sag. With L1 or l2. Large dataset. liblinear is for small datasets, binary classifications\n",
    "    'logisticregression__C': [0.01, 0.1, 1, 5],                 # Strength of regularisation, default is 1, smaller is stronger\n",
    "    'logisticregression__max_iter': [500]                       # Max 500 iterations seems to be sufficient\n",
    "}                       \n",
    "\n",
    "# Run the search\n",
    "start_time = time.perf_counter()\n",
    "grid_search = GridSearchCV(logreg_pipeline, grid_params, scoring='accuracy', cv=5, refit='accuracy')\n",
    "grid_search.fit(X_train, y_train)\n",
    "duration = time.perf_counter() - start_time\n"
   ]
  },
  {
   "cell_type": "code",
   "execution_count": null,
   "metadata": {},
   "outputs": [],
   "source": [
    "# Show the results\n",
    "print_search_results(grid_search, duration)"
   ]
  },
  {
   "cell_type": "code",
   "execution_count": null,
   "metadata": {},
   "outputs": [],
   "source": [
    "# Get the Best Model & Calculate Predicted Y and Evaluate\n",
    "\n",
    "model_logreg = grid_search.best_estimator_\n",
    "y_pred = model_logreg.predict(X_test)\n",
    "classification_metrics(model_logreg, y_test, y_pred)"
   ]
  },
  {
   "cell_type": "markdown",
   "metadata": {},
   "source": [
    "## Train Different Models - Decision Tree"
   ]
  },
  {
   "cell_type": "code",
   "execution_count": 22,
   "metadata": {},
   "outputs": [],
   "source": [
    "# Decision Tree\n",
    "# Establish a pipeline for a grid search & get the best fitted model\n",
    "\n",
    "randforest_pipeline = make_pipeline(\n",
    "    RandomForestClassifier(random_state=42)\n",
    ")\n",
    "grid_params = {\n",
    "    'randomforestclassifier__n_estimators': [200, 400],            # Number of trees\n",
    "    'randomforestclassifier__max_depth': [25, 50],\n",
    "    'randomforestclassifier__max_leaf_nodes': [5, 50],\n",
    "    'randomforestclassifier__min_samples_split': [2, 5],\n",
    "    'randomforestclassifier__class_weight': ['balanced']    # Gives more importance to minority classes ... ?? Improves recall at the expense of precision\n",
    "}                       \n",
    "\n",
    "# Run the search\n",
    "start_time = time.perf_counter()\n",
    "grid_search = GridSearchCV(randforest_pipeline, grid_params, cv=5)\n",
    "grid_search.fit(X_train, y_train)\n",
    "duration = time.perf_counter() - start_time"
   ]
  },
  {
   "cell_type": "code",
   "execution_count": 23,
   "metadata": {},
   "outputs": [
    {
     "name": "stdout",
     "output_type": "stream",
     "text": [
      "------- Search Results --------\n",
      "Score: 0.7323. Mean: 0.7002 and STD 0.0317\n",
      "Search Took: 121.53 seconds\n",
      "Best Parameters: {'randomforestclassifier__class_weight': 'balanced', 'randomforestclassifier__max_depth': 25, 'randomforestclassifier__max_leaf_nodes': 50, 'randomforestclassifier__min_samples_split': 5, 'randomforestclassifier__n_estimators': 200}\n",
      "Top 10 out of 16 combinations:\n"
     ]
    },
    {
     "data": {
      "text/html": [
       "<div>\n",
       "<style scoped>\n",
       "    .dataframe tbody tr th:only-of-type {\n",
       "        vertical-align: middle;\n",
       "    }\n",
       "\n",
       "    .dataframe tbody tr th {\n",
       "        vertical-align: top;\n",
       "    }\n",
       "\n",
       "    .dataframe thead th {\n",
       "        text-align: right;\n",
       "    }\n",
       "</style>\n",
       "<table border=\"1\" class=\"dataframe\">\n",
       "  <thead>\n",
       "    <tr style=\"text-align: right;\">\n",
       "      <th></th>\n",
       "      <th>rank_test_score</th>\n",
       "      <th>mean_test_score</th>\n",
       "      <th>mean_fit_time</th>\n",
       "      <th>mean_score_time</th>\n",
       "      <th>params</th>\n",
       "    </tr>\n",
       "  </thead>\n",
       "  <tbody>\n",
       "    <tr>\n",
       "      <th>6</th>\n",
       "      <td>1</td>\n",
       "      <td>0.732259</td>\n",
       "      <td>1.256005</td>\n",
       "      <td>0.068559</td>\n",
       "      <td>{'randomforestclassifier__class_weight': 'bala...</td>\n",
       "    </tr>\n",
       "    <tr>\n",
       "      <th>14</th>\n",
       "      <td>1</td>\n",
       "      <td>0.732259</td>\n",
       "      <td>1.265962</td>\n",
       "      <td>0.068191</td>\n",
       "      <td>{'randomforestclassifier__class_weight': 'bala...</td>\n",
       "    </tr>\n",
       "    <tr>\n",
       "      <th>4</th>\n",
       "      <td>3</td>\n",
       "      <td>0.732111</td>\n",
       "      <td>1.232781</td>\n",
       "      <td>0.066863</td>\n",
       "      <td>{'randomforestclassifier__class_weight': 'bala...</td>\n",
       "    </tr>\n",
       "    <tr>\n",
       "      <th>12</th>\n",
       "      <td>4</td>\n",
       "      <td>0.732087</td>\n",
       "      <td>1.329961</td>\n",
       "      <td>0.071129</td>\n",
       "      <td>{'randomforestclassifier__class_weight': 'bala...</td>\n",
       "    </tr>\n",
       "    <tr>\n",
       "      <th>13</th>\n",
       "      <td>5</td>\n",
       "      <td>0.731667</td>\n",
       "      <td>2.570957</td>\n",
       "      <td>0.130980</td>\n",
       "      <td>{'randomforestclassifier__class_weight': 'bala...</td>\n",
       "    </tr>\n",
       "    <tr>\n",
       "      <th>5</th>\n",
       "      <td>6</td>\n",
       "      <td>0.731642</td>\n",
       "      <td>2.482164</td>\n",
       "      <td>0.128361</td>\n",
       "      <td>{'randomforestclassifier__class_weight': 'bala...</td>\n",
       "    </tr>\n",
       "    <tr>\n",
       "      <th>7</th>\n",
       "      <td>7</td>\n",
       "      <td>0.731642</td>\n",
       "      <td>2.536731</td>\n",
       "      <td>0.131756</td>\n",
       "      <td>{'randomforestclassifier__class_weight': 'bala...</td>\n",
       "    </tr>\n",
       "    <tr>\n",
       "      <th>15</th>\n",
       "      <td>7</td>\n",
       "      <td>0.731642</td>\n",
       "      <td>2.544015</td>\n",
       "      <td>0.134983</td>\n",
       "      <td>{'randomforestclassifier__class_weight': 'bala...</td>\n",
       "    </tr>\n",
       "    <tr>\n",
       "      <th>0</th>\n",
       "      <td>9</td>\n",
       "      <td>0.669291</td>\n",
       "      <td>0.589942</td>\n",
       "      <td>0.046144</td>\n",
       "      <td>{'randomforestclassifier__class_weight': 'bala...</td>\n",
       "    </tr>\n",
       "    <tr>\n",
       "      <th>2</th>\n",
       "      <td>9</td>\n",
       "      <td>0.669291</td>\n",
       "      <td>0.581363</td>\n",
       "      <td>0.046295</td>\n",
       "      <td>{'randomforestclassifier__class_weight': 'bala...</td>\n",
       "    </tr>\n",
       "  </tbody>\n",
       "</table>\n",
       "</div>"
      ],
      "text/plain": [
       "    rank_test_score  mean_test_score  mean_fit_time  mean_score_time  \\\n",
       "6                 1         0.732259       1.256005         0.068559   \n",
       "14                1         0.732259       1.265962         0.068191   \n",
       "4                 3         0.732111       1.232781         0.066863   \n",
       "12                4         0.732087       1.329961         0.071129   \n",
       "13                5         0.731667       2.570957         0.130980   \n",
       "5                 6         0.731642       2.482164         0.128361   \n",
       "7                 7         0.731642       2.536731         0.131756   \n",
       "15                7         0.731642       2.544015         0.134983   \n",
       "0                 9         0.669291       0.589942         0.046144   \n",
       "2                 9         0.669291       0.581363         0.046295   \n",
       "\n",
       "                                               params  \n",
       "6   {'randomforestclassifier__class_weight': 'bala...  \n",
       "14  {'randomforestclassifier__class_weight': 'bala...  \n",
       "4   {'randomforestclassifier__class_weight': 'bala...  \n",
       "12  {'randomforestclassifier__class_weight': 'bala...  \n",
       "13  {'randomforestclassifier__class_weight': 'bala...  \n",
       "5   {'randomforestclassifier__class_weight': 'bala...  \n",
       "7   {'randomforestclassifier__class_weight': 'bala...  \n",
       "15  {'randomforestclassifier__class_weight': 'bala...  \n",
       "0   {'randomforestclassifier__class_weight': 'bala...  \n",
       "2   {'randomforestclassifier__class_weight': 'bala...  "
      ]
     },
     "metadata": {},
     "output_type": "display_data"
    }
   ],
   "source": [
    "# Show the results\n",
    "print_search_results(grid_search, duration)\n"
   ]
  },
  {
   "cell_type": "code",
   "execution_count": 25,
   "metadata": {},
   "outputs": [
    {
     "name": "stdout",
     "output_type": "stream",
     "text": [
      "Accuracy: 0.7271\n",
      "Precision: 0.3772\n",
      "Recall: 0.6443\n",
      "F1 Score 0.4758\n",
      "Specificity: 0.7468\n",
      "Hamming Loss 0.2729\n",
      "ROC-AUC Score 0.7634\n",
      "Gini Index: 0.5268\n"
     ]
    },
    {
     "data": {
      "image/png": "[encoded data removed]",
      "text/plain": [
       "<Figure size 1200x400 with 2 Axes>"
      ]
     },
     "metadata": {},
     "output_type": "display_data"
    },
    {
     "data": {
      "image/png": "[encoded data removed]",
      "text/plain": [
       "<Figure size 600x400 with 1 Axes>"
      ]
     },
     "metadata": {},
     "output_type": "display_data"
    }
   ],
   "source": [
    "# Get the Best Model & Calculate Predicted Y and Evaluate\n",
    "\n",
    "model_randforest = grid_search.best_estimator_\n",
    "y_pred = model_randforest.predict(X_test)\n",
    "classification_metrics(model_randforest, X_test, y_test, y_pred)"
   ]
  },
  {
   "cell_type": "code",
   "execution_count": 26,
   "metadata": {},
   "outputs": [
    {
     "name": "stdout",
     "output_type": "stream",
     "text": [
      "feature121    0.197913\n",
      "feature118    0.120997\n",
      "feature133    0.087601\n",
      "feature134    0.078915\n",
      "feature129    0.063179\n",
      "                ...   \n",
      "feature100    0.000122\n",
      "feature99     0.000112\n",
      "feature52     0.000099\n",
      "feature14     0.000098\n",
      "feature30     0.000094\n",
      "Length: 135, dtype: float64\n"
     ]
    }
   ],
   "source": [
    "# Feature importance from the trained model\n",
    "\n",
    "# Assuming you have the feature names stored in a list called feature_names\n",
    "# Ensure feature_names has the correct length\n",
    "feature_names = [f'feature{i+1}' for i in range(X_train.shape[1])]  # Replace with actual feature names if available\n",
    "\n",
    "feature_importances = pd.Series(model_randforest.named_steps['randomforestclassifier'].feature_importances_, index=feature_names).sort_values(ascending=False)\n",
    "print(feature_importances)\n"
   ]
  },
  {
   "cell_type": "code",
   "execution_count": 29,
   "metadata": {},
   "outputs": [
    {
     "name": "stdout",
     "output_type": "stream",
     "text": [
      "Feature 0: 0.0002344732679206156\n",
      "Feature 1: 0.00032589188926307575\n",
      "Feature 2: 0.00033633772254238197\n",
      "Feature 3: 0.0001714758388069814\n",
      "Feature 4: 0.000174259644310747\n",
      "Feature 5: 0.0001908568356945031\n",
      "Feature 6: 0.0001280820913511126\n",
      "Feature 7: 0.000634325484625876\n",
      "Feature 8: 0.0002029884932948381\n",
      "Feature 9: 0.0002270097853069937\n",
      "Feature 10: 0.00023687421721311282\n",
      "Feature 11: 0.00017425459071716216\n",
      "Feature 12: 0.0003432513220957357\n",
      "Feature 13: 9.840818009967711e-05\n",
      "Feature 14: 0.00039741024666242806\n",
      "Feature 15: 0.000249484251267002\n",
      "Feature 16: 0.0002871023879935244\n",
      "Feature 17: 0.00019178299486534032\n",
      "Feature 18: 0.0002989779847049147\n",
      "Feature 19: 0.0003857723075866823\n",
      "Feature 20: 0.0001523649386066063\n",
      "Feature 21: 0.0002554528194837391\n",
      "Feature 22: 0.0003053404730658628\n",
      "Feature 23: 0.0004918440121524755\n",
      "Feature 24: 0.0002136643463956255\n",
      "Feature 25: 0.00022762821483481743\n",
      "Feature 26: 0.0003228485002760498\n",
      "Feature 27: 0.0003663126318231764\n",
      "Feature 28: 0.00034332553261609127\n",
      "Feature 29: 9.353643454511122e-05\n",
      "Feature 30: 0.00017147134259650097\n",
      "Feature 31: 0.00018820040357316498\n",
      "Feature 32: 0.0004465886050496949\n",
      "Feature 33: 0.00039191306647648813\n",
      "Feature 34: 0.0004529668694444942\n",
      "Feature 35: 0.0002871449770329797\n",
      "Feature 36: 0.00023157923738077483\n",
      "Feature 37: 0.0003162145583207724\n",
      "Feature 38: 0.00021080732804310337\n",
      "Feature 39: 0.00022750839490075589\n",
      "Feature 40: 0.00022166934581706424\n",
      "Feature 41: 0.00026753057308291737\n",
      "Feature 42: 0.0003482924890309482\n",
      "Feature 43: 0.00018761938900728554\n",
      "Feature 44: 0.00023748424547229697\n",
      "Feature 45: 0.00019400861149119084\n",
      "Feature 46: 0.00030545319540138454\n",
      "Feature 47: 0.00022311888954084941\n",
      "Feature 48: 0.00035811099140986005\n",
      "Feature 49: 0.000485720993843881\n",
      "Feature 50: 0.0002076379003368911\n",
      "Feature 51: 9.851985794164703e-05\n",
      "Feature 52: 0.0002701933157543346\n",
      "Feature 53: 0.0005259940931838478\n",
      "Feature 54: 0.000258999912976159\n",
      "Feature 55: 0.0001695514561745103\n",
      "Feature 56: 0.00024056908804101967\n",
      "Feature 57: 0.0002813904821508846\n",
      "Feature 58: 0.00020603078356803238\n",
      "Feature 59: 0.00025788116805431613\n",
      "Feature 60: 0.00035644828425941076\n",
      "Feature 61: 0.00017084440833169657\n",
      "Feature 62: 0.00015875007001004036\n",
      "Feature 63: 0.00040993461764383477\n",
      "Feature 64: 0.0005131851391980052\n",
      "Feature 65: 0.0003186161538318818\n",
      "Feature 66: 0.00016253786289625145\n",
      "Feature 67: 0.00038560220980446793\n",
      "Feature 68: 0.00034427460064089134\n",
      "Feature 69: 0.00015071427607117247\n",
      "Feature 70: 0.0001948613907219084\n",
      "Feature 71: 0.00033633481795586876\n",
      "Feature 72: 0.0002565616450851013\n",
      "Feature 73: 0.00024125124365044257\n",
      "Feature 74: 0.0002585843260076771\n",
      "Feature 75: 0.00027109033072453135\n",
      "Feature 76: 0.0002767535632112797\n",
      "Feature 77: 0.000213645646093816\n",
      "Feature 78: 0.0002429878610176428\n",
      "Feature 79: 0.00024302212143197482\n",
      "Feature 80: 0.0003708426888284432\n",
      "Feature 81: 0.0002003975753728542\n",
      "Feature 82: 0.00020934682942909627\n",
      "Feature 83: 0.0003790775566734901\n",
      "Feature 84: 0.0004627815931008394\n",
      "Feature 85: 0.0002282930604274637\n",
      "Feature 86: 0.00026659160865863017\n",
      "Feature 87: 0.00029547558473264204\n",
      "Feature 88: 0.00042083913378713404\n",
      "Feature 89: 0.0001575547574002261\n",
      "Feature 90: 0.0004259047599668027\n",
      "Feature 91: 0.00042340267832089806\n",
      "Feature 92: 0.00017879919985545423\n",
      "Feature 93: 0.00019876369835421982\n",
      "Feature 94: 0.00012327638202990428\n",
      "Feature 95: 0.00026074490127248783\n",
      "Feature 96: 0.0002793943409258172\n",
      "Feature 97: 0.0005447678685062307\n",
      "Feature 98: 0.00011157157560367711\n",
      "Feature 99: 0.00012244404675944818\n",
      "Feature 100: 0.021636023593810064\n",
      "Feature 101: 0.0021080740424449613\n",
      "Feature 102: 0.0019051546102585599\n",
      "Feature 103: 0.0035315434032494298\n",
      "Feature 104: 0.018524328850089693\n",
      "Feature 105: 0.0012527438756241172\n",
      "Feature 106: 0.003192735527905966\n",
      "Feature 107: 0.015892568291294193\n",
      "Feature 108: 0.001933208295012947\n",
      "Feature 109: 0.001534049381797347\n",
      "Feature 110: 0.000578232138973153\n",
      "Feature 111: 0.013089801602777564\n",
      "Feature 112: 0.015341494931282522\n",
      "Feature 113: 0.0036301168155527786\n",
      "Feature 114: 0.017255954371345677\n",
      "Feature 115: 0.0010961619970210933\n",
      "Feature 116: 0.001383983498754387\n",
      "Feature 117: 0.12099742302432691\n",
      "Feature 118: 0.03510636072842843\n",
      "Feature 119: 0.0025106356698351155\n",
      "Feature 120: 0.19791308892395956\n",
      "Feature 121: 0.016586276134500585\n",
      "Feature 122: 0.011130050005042233\n",
      "Feature 123: 0.0042005465558947125\n",
      "Feature 124: 0.00489052689639864\n",
      "Feature 125: 0.015236409413140507\n",
      "Feature 126: 0.015598732752366356\n",
      "Feature 127: 0.04524528775303551\n",
      "Feature 128: 0.06317936686216767\n",
      "Feature 129: 0.007745820939761748\n",
      "Feature 130: 0.048783088145207786\n",
      "Feature 131: 0.039127759415779687\n",
      "Feature 132: 0.08760094597131186\n",
      "Feature 133: 0.07891473157295736\n",
      "Feature 134: 0.05384899459487696\n"
     ]
    }
   ],
   "source": [
    "# Get feature importances\n",
    "importances = model_randforest.named_steps['randomforestclassifier'].feature_importances_\n",
    "\n",
    "# Print feature importances\n",
    "for i, importance in enumerate(importances):\n",
    "    print(f\"Feature {i}: {importance}\")"
   ]
  },
  {
   "cell_type": "code",
   "execution_count": null,
   "metadata": {},
   "outputs": [],
   "source": [
    "\n",
    "import shap\n",
    "\n",
    "model_s = model_randforest.named_steps['randomforestclassifier']\n",
    "\n",
    "# Convert sparse matrix to dense\n",
    "X_train_dense = X_train.toarray()\n",
    "X_test_dense = X_test.toarray()\n",
    "\n",
    "\n",
    "# Ensure feature_names has the correct length\n",
    "feature_names = [f'feature{i+1}' for i in range(X_test_dense.shape[1])]  # Replace with actual feature names if available\n",
    "\n",
    "# Calculate SHAP values\n",
    "explainer = shap.TreeExplainer(model_s)\n",
    "shap_values = explainer.shap_values(X_test_dense)\n",
    "\n"
   ]
  },
  {
   "cell_type": "code",
   "execution_count": null,
   "metadata": {},
   "outputs": [],
   "source": [
    "# Visualize individual prediction\n",
    "shap.initjs()\n",
    "shap.force_plot(explainer.expected_value[1], \n",
    "                shap_values[1][100], \n",
    "                X_test_dense[100],\n",
    "                #feature_names=feature_names)\n",
    "                feature_names=feature_names[:len(shap_values[1][100])])"
   ]
  },
  {
   "cell_type": "markdown",
   "metadata": {},
   "source": [
    "?? Metrics\n",
    "- entropy\n",
    "- log loss"
   ]
  },
  {
   "cell_type": "markdown",
   "metadata": {},
   "source": [
    "## Apply PCA"
   ]
  },
  {
   "cell_type": "code",
   "execution_count": null,
   "metadata": {},
   "outputs": [],
   "source": []
  },
  {
   "cell_type": "code",
   "execution_count": null,
   "metadata": {},
   "outputs": [],
   "source": [
    "# Decision Tree\n",
    "# Establish a pipeline for a grid search & get the best fitted model\n",
    "\n",
    "from sklearn.decomposition import PCA\n",
    "X_train_dense = X_train.toarray()\n",
    "X_test_dense = X_test.toarray()\n",
    "\n",
    "randforest_pipeline = make_pipeline(\n",
    "    PCA(random_state=42),\n",
    "    RandomForestClassifier(random_state=42)\n",
    ")\n",
    "grid_params = {\n",
    "    'pca__n_components': [40],                           # PCA to reduce from 135 components. Reduces execution time. 40 seems ok\n",
    "    'randomforestclassifier__n_estimators': [150],        # Number of trees\n",
    "    'randomforestclassifier__max_depth': [10, 25],\n",
    "    'randomforestclassifier__max_leaf_nodes': [5, 50],\n",
    "    'randomforestclassifier__min_samples_split': [2, 5],\n",
    "}                       \n",
    "\n",
    "# Run the search\n",
    "start_time = time.perf_counter()\n",
    "grid_search_s = GridSearchCV(randforest_pipeline, grid_params, cv=5)\n",
    "grid_search_s.fit(X_train_dense, y_train)\n",
    "duration = time.perf_counter() - start_time\n",
    "\n",
    "# Show the results\n",
    "print_search_results(grid_search_s, duration)\n",
    "\n",
    "# Get the Best Model & Calculate Predicted Y and Evaluate\n",
    "model_randforest_S = grid_search_s.best_estimator_\n",
    "y_pred = model_randforest_S.predict(X_test_dense)\n",
    "classification_metrics(model_randforest_S, X_test_dense, y_test, y_pred)\n"
   ]
  },
  {
   "cell_type": "code",
   "execution_count": null,
   "metadata": {},
   "outputs": [],
   "source": [
    "# Show the results\n",
    "print_search_results(grid_search_s, duration)\n",
    "\n",
    "# Get the Best Model & Calculate Predicted Y and Evaluate\n",
    "model_randforest_S = grid_search_s.best_estimator_\n",
    "y_pred = model_randforest_S.predict(X_test_dense)\n",
    "classification_metrics(model_randforest_S, X_test_dense, y_test, y_pred)"
   ]
  },
  {
   "cell_type": "markdown",
   "metadata": {},
   "source": [
    "## Apply SMOTE"
   ]
  },
  {
   "cell_type": "code",
   "execution_count": null,
   "metadata": {},
   "outputs": [],
   "source": [
    "from imblearn.over_sampling import SMOTE\n",
    "\n",
    "smote = SMOTE(random_state=42)\n",
    "X_resampled, y_resampled = smote.fit_resample(X_train, y_train)"
   ]
  },
  {
   "cell_type": "code",
   "execution_count": null,
   "metadata": {},
   "outputs": [],
   "source": [
    "from imblearn.over_sampling import SMOTENC\n",
    "\n",
    "smotenc = SMOTENC(categorical_features=, random_state=42)\n",
    "X_resampled, y_resampled = smotenc.fit_resample(X_train, y_train)"
   ]
  },
  {
   "cell_type": "code",
   "execution_count": null,
   "metadata": {},
   "outputs": [],
   "source": [
    "# Decision Tree\n",
    "# Establish a pipeline for a grid search & get the best fitted model\n",
    "\n",
    "randforest_pipeline = make_pipeline(\n",
    "    RandomForestClassifier(random_state=42)\n",
    ")\n",
    "grid_params = {\n",
    "    'randomforestclassifier__n_estimators': [10],            # Number of trees\n",
    "    'randomforestclassifier__max_depth': [10, 50],\n",
    "    'randomforestclassifier__max_leaf_nodes': [5, 50],\n",
    "    'randomforestclassifier__min_samples_split': [2, 5],\n",
    "}                       \n",
    "\n",
    "# Run the search\n",
    "start_time = time.perf_counter()\n",
    "grid_search_s = GridSearchCV(randforest_pipeline, grid_params, cv=5)\n",
    "grid_search_s.fit(X_resampled, y_resampled)\n",
    "duration = time.perf_counter() - start_time"
   ]
  },
  {
   "cell_type": "code",
   "execution_count": null,
   "metadata": {},
   "outputs": [],
   "source": [
    "# Show the results\n",
    "print_search_results(grid_search_s, duration)\n",
    "\n",
    "# Get the Best Model & Calculate Predicted Y and Evaluate\n",
    "\n",
    "model_randforest_S = grid_search_s.best_estimator_\n",
    "y_pred = model_randforest_S.predict(X_test)\n",
    "classification_metrics(model_randforest_S, y_test, y_pred)"
   ]
  },
  {
   "cell_type": "code",
   "execution_count": null,
   "metadata": {},
   "outputs": [],
   "source": [
    "# Get the Best Model & Calculate Predicted Y and Evaluate\n",
    "\n",
    "model_randforest_S = grid_search_s.best_estimator_\n",
    "y_pred = model_randforest_S.predict(X_test)\n",
    "classification_metrics(model_randforest_S, y_test, y_pred)"
   ]
  }
 ],
 "metadata": {
  "kernelspec": {
   "display_name": "ml_packages_v3",
   "language": "python",
   "name": "python3"
  },
  "language_info": {
   "codemirror_mode": {
    "name": "ipython",
    "version": 3
   },
   "file_extension": ".py",
   "mimetype": "text/x-python",
   "name": "python",
   "nbconvert_exporter": "python",
   "pygments_lexer": "ipython3",
   "version": "3.12.9"
  }
 },
 "nbformat": 4,
 "nbformat_minor": 2
}
