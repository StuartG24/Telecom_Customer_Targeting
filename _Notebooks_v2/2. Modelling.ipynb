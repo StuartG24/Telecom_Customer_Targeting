{
 "cells": [
  {
   "cell_type": "markdown",
   "metadata": {},
   "source": [
    "# 2. Modelling\n"
   ]
  },
  {
   "cell_type": "markdown",
   "metadata": {},
   "source": [
    "## To Do\n",
    "\n",
    "Models:\n",
    "- LogReg - GridSearch, Improve Precision ....\n",
    "- Random Forest - GridSearch, Improve precision, Get feature importance to see main contributors\n",
    "- MLPClassifier - more parameters, iterations, F1 scoring ...\n",
    "- Best metrics, eg precision due the cost of a sales contact .... use f1 instead of accuracy .. but crashes\n",
    "- Understand Hamming loss, Gini index (least is best etc)\n",
    "\n",
    "And:\n",
    "- MLP - Use Keras to create an MLP, see week 5 Wine notebook\n",
    "- Add a loop like week 9 to produce a summary comparison? .. or just do manually in poster\n",
    "- One best model found then retrain again and get different metrics??\n",
    "- Repeat with PCA components\n",
    "- Repeat with changes in features\n",
    "- ?? SMOTE\n",
    "\n"
   ]
  },
  {
   "cell_type": "markdown",
   "metadata": {},
   "source": [
    "## Imports & Utilities"
   ]
  },
  {
   "cell_type": "code",
   "execution_count": 1,
   "metadata": {},
   "outputs": [],
   "source": [
    "# General stuff\n",
    "import os\n",
    "import time\n",
    "\n",
    "# Import maths related packages\n",
    "import pandas as pd\n",
    "import numpy as np\n",
    "import math\n",
    "\n",
    "# Import plotting packages\n",
    "import matplotlib.pyplot as plt\n",
    "plt.style.use('ggplot')\n",
    "# Reset to Default\n",
    "# plt.style.use('default')\n"
   ]
  },
  {
   "cell_type": "code",
   "execution_count": 2,
   "metadata": {},
   "outputs": [],
   "source": [
    "# ML Models & Evaluation\n",
    "\n",
    "from sklearn import model_selection\n",
    "\n",
    "from sklearn.linear_model import LinearRegression\n",
    "from sklearn.linear_model import LogisticRegression\n",
    "from sklearn.neural_network import MLPClassifier\n",
    "from sklearn.ensemble import RandomForestClassifier\n",
    "\n",
    "from sklearn.model_selection import GridSearchCV\n",
    "from sklearn.model_selection import RandomizedSearchCV\n",
    "\n",
    "from sklearn import metrics\n",
    "from sklearn.model_selection import cross_val_score\n",
    "from sklearn.metrics import classification_report, confusion_matrix, ConfusionMatrixDisplay, RocCurveDisplay\n",
    "\n",
    "from sklearn.pipeline import Pipeline\n",
    "from sklearn.pipeline import make_pipeline\n"
   ]
  },
  {
   "cell_type": "code",
   "execution_count": 3,
   "metadata": {},
   "outputs": [],
   "source": [
    "# Function to Display The Model Fit Results\n",
    "\n",
    "def print_search_results(search, duration):\n",
    "    print('------- Search Results --------')\n",
    "    all_search_results = pd.DataFrame(search.cv_results_)\n",
    "    print(f\"Score: {search.best_score_:.4f}. Mean: {np.mean(all_search_results['mean_test_score']):.4f} and STD {np.std(all_search_results['mean_test_score']):.4f}\")\n",
    "    print(f'Search Took: {duration:.2f} seconds')\n",
    "    print(f\"Best Parameters: {search.best_params_}\")\n",
    "    top_n = 10\n",
    "    print(f\"Top {top_n} out of {len(all_search_results)} combinations:\")\n",
    "    display(all_search_results[['rank_test_score', 'mean_test_score', 'mean_fit_time', 'mean_score_time', 'params']].sort_values(by='rank_test_score').head(top_n))"
   ]
  },
  {
   "cell_type": "code",
   "execution_count": 4,
   "metadata": {},
   "outputs": [],
   "source": [
    "# Function to Present the Evaluation Metrics for a Classification Model\n",
    "\n",
    "def classification_metrics(for_Model, X_test, y_test, y_pred):\n",
    "    plt.style.use('default')\n",
    "\n",
    "    # Calculate Confusion Matrix\n",
    "    cm = confusion_matrix(y_test, y_pred)\n",
    "    tn, fp, fn, tp = cm.ravel()\n",
    "\n",
    "    # Print various metrics\n",
    "    print(f'Accuracy: {metrics.accuracy_score(y_true=y_test, y_pred=y_pred):.4f}')\n",
    "    print(f'Precision: {metrics.precision_score(y_true=y_test, y_pred=y_pred, pos_label=\"yes\"):.4f}')\n",
    "    print(f'Recall: {metrics.recall_score(y_true=y_test, y_pred=y_pred, pos_label=\"yes\"):.4f}')\n",
    "    print(f'F1 Score {metrics.f1_score(y_true=y_test, y_pred=y_pred, pos_label=\"yes\"):.4f}')\n",
    "    print(f'Specificity: {tn / (tn + fp):.4f}')\n",
    "    print(f'Hamming Loss {metrics.hamming_loss(y_true=y_test, y_pred=y_pred):.4f}')\n",
    "\n",
    "\n",
    "    # Plot Confusion Matrix\n",
    "    class_labels = for_Model.classes_\n",
    "    fig, ax = plt.subplots(figsize=(12,4))\n",
    "    ax.set_title('Confusion Matrix')\n",
    "    ConfusionMatrixDisplay(confusion_matrix=cm, display_labels=class_labels).plot(ax=ax)\n",
    "    plt.show\n",
    "\n",
    "    y_probabilities = for_Model.predict_proba(X_test)[:, 1]\n",
    "    roc_auc_score = metrics.roc_auc_score(y_true=y_test, y_score=y_probabilities)\n",
    "    print(f'ROC-AUC Score {roc_auc_score:.4f}')\n",
    "    gini_score = 2 * roc_auc_score - 1\n",
    "    print(f'Gini Index: {gini_score:.4f}')\n",
    "\n",
    "    # Plot the ROC curve\n",
    "    fig, ax = plt.subplots(figsize=(6,4))\n",
    "    ax.set_title('ROC Curve')\n",
    "    roc_display = RocCurveDisplay.from_estimator(for_Model, X_test, y_test, ax=ax, pos_label=\"yes\")\n",
    "    plt.show()\n",
    "\n",
    "    plt.style.use('ggplot')"
   ]
  },
  {
   "cell_type": "markdown",
   "metadata": {},
   "source": [
    "## Load the Prepared Data"
   ]
  },
  {
   "cell_type": "code",
   "execution_count": 5,
   "metadata": {},
   "outputs": [],
   "source": [
    "# Load saved dataset\n",
    "import pickle\n",
    "\n",
    "with open('xy_data.pickle', 'rb') as file:\n",
    "    X_train, X_test, y_train, y_test = pickle.load(file)"
   ]
  },
  {
   "cell_type": "markdown",
   "metadata": {},
   "source": [
    "## Logistic Regression"
   ]
  },
  {
   "cell_type": "code",
   "execution_count": null,
   "metadata": {},
   "outputs": [],
   "source": [
    "# Logistic Regression\n",
    "\n",
    "# Establish a pipeline for a randomised search & get the best fitted model\n",
    "logreg_pipeline = make_pipeline(\n",
    "    LogisticRegression(random_state=42)\n",
    ")\n",
    "grid_params = {\n",
    "    'logisticregression__penalty': ['l1', 'l2'],                # L1 or L2 regularisation\n",
    "    'logisticregression__solver': ['saga', 'liblinear'],        # Saga is a variant of Sag. With L1 or l2. Large dataset. liblinear is for small datasets, binary classifications\n",
    "    'logisticregression__C': [0.01, 0.1, 1, 5],                 # Strength of regularisation, default is 1, smaller is stronger\n",
    "    'logisticregression__max_iter': [600],                      # Max 500 iterations seems to be sufficient\n",
    "    'logisticregression__class_weight': ['balanced']            # Balanced seems to give a better recall & precision\n",
    "    # 'logisticregression__class_weight': [None, 'balanced'] # Tries to adjust to balance for classes that are imbalanced\n",
    "}\n",
    "# scoring = ['accuracy', 'precision', 'recall', 'f1', 'roc_auc']\n",
    "          \n",
    "# Run the search\n",
    "start_time = time.perf_counter()\n",
    "# rand_search = RandomizedSearchCV(logreg_pipeline, grid_params, scoring=scoring, cv=5, refit='accuracy')\n",
    "# rand_search = RandomizedSearchCV(logreg_pipeline, grid_params, scoring='accuracy', cv=5)\n",
    "rand_search = GridSearchCV(logreg_pipeline, grid_params, scoring='accuracy', cv=5)\n",
    "\n",
    "rand_search.fit(X_train, y_train)\n",
    "duration = time.perf_counter() - start_time\n"
   ]
  },
  {
   "cell_type": "code",
   "execution_count": null,
   "metadata": {},
   "outputs": [],
   "source": [
    "# Show the results\n",
    "print_search_results(rand_search, duration)\n",
    "\n",
    "# Get the Best Model & Calculate Predicted Y and Evaluate\n",
    "model_logreg_rand = rand_search.best_estimator_\n",
    "y_pred = model_logreg_rand.predict(X_test)\n",
    "classification_metrics(model_logreg_rand, X_test, y_test, y_pred)"
   ]
  },
  {
   "cell_type": "markdown",
   "metadata": {},
   "source": [
    "## Decision Tree - Random Forest"
   ]
  },
  {
   "cell_type": "code",
   "execution_count": null,
   "metadata": {},
   "outputs": [],
   "source": [
    "# Decision Tree\n",
    "\n",
    "# Establish a pipeline for a grid search & get the best fitted model\n",
    "randforest_pipeline = make_pipeline(\n",
    "    RandomForestClassifier(random_state=42)\n",
    ")\n",
    "grid_params = {\n",
    "    'randomforestclassifier__n_estimators': [200, 400],            # Number of trees\n",
    "    'randomforestclassifier__max_depth': [25, 50],\n",
    "    'randomforestclassifier__max_leaf_nodes': [5, 50],\n",
    "    'randomforestclassifier__min_samples_split': [2, 5],\n",
    "    'randomforestclassifier__class_weight': ['balanced']    # Gives more importance to minority classes ... ?? Improves recall at the expense of precision\n",
    "}                       \n",
    "\n",
    "# Run the search\n",
    "start_time = time.perf_counter()\n",
    "grid_search = GridSearchCV(randforest_pipeline, grid_params, cv=5)\n",
    "grid_search.fit(X_train, y_train)\n",
    "duration = time.perf_counter() - start_time"
   ]
  },
  {
   "cell_type": "code",
   "execution_count": null,
   "metadata": {},
   "outputs": [],
   "source": [
    "# Show the results\n",
    "print_search_results(grid_search, duration)\n",
    "\n",
    "# Get the Best Model & Calculate Predicted Y and Evaluate\n",
    "model_randforest_grid = grid_search.best_estimator_\n",
    "y_pred = model_randforest_grid.predict(X_test)\n",
    "classification_metrics(model_randforest_grid, X_test, y_test, y_pred)"
   ]
  },
  {
   "cell_type": "markdown",
   "metadata": {},
   "source": [
    "## Neural Network - MLPClassifier"
   ]
  },
  {
   "cell_type": "code",
   "execution_count": 10,
   "metadata": {},
   "outputs": [
    {
     "name": "stderr",
     "output_type": "stream",
     "text": [
      "/opt/anaconda3/envs/ml_v4/lib/python3.11/site-packages/sklearn/neural_network/_multilayer_perceptron.py:691: ConvergenceWarning: Stochastic Optimizer: Maximum iterations (600) reached and the optimization hasn't converged yet.\n",
      "  warnings.warn(\n",
      "/opt/anaconda3/envs/ml_v4/lib/python3.11/site-packages/sklearn/neural_network/_multilayer_perceptron.py:691: ConvergenceWarning: Stochastic Optimizer: Maximum iterations (600) reached and the optimization hasn't converged yet.\n",
      "  warnings.warn(\n",
      "/opt/anaconda3/envs/ml_v4/lib/python3.11/site-packages/sklearn/neural_network/_multilayer_perceptron.py:691: ConvergenceWarning: Stochastic Optimizer: Maximum iterations (600) reached and the optimization hasn't converged yet.\n",
      "  warnings.warn(\n"
     ]
    }
   ],
   "source": [
    "# Neural Network\n",
    "\n",
    "    # 'Neural Network': {'hidden_layer_sizes': [(50,), (100,)], 'activation': ['relu', 'tanh']}\n",
    "\n",
    "# param_grid = {\n",
    "#     'hidden_layer_sizes': [(50,), (30, 15), (100,)],\n",
    "#     'activation': ['relu', 'tanh'],\n",
    "#     'solver': ['adam', 'lbfgs'],\n",
    "#     'alpha': [0.0001, 0.001],\n",
    "#     'learning_rate_init': [0.001, 0.01]\n",
    "# }\n",
    "# https://www.perplexity.ai/search/for-an-mlpclassifier-what-are-nqkwHGTVRRq6kH6L03t6gw\n",
    "\n",
    "\n",
    "# Establish a pipeline for a grid or random search to get the best fitted model\n",
    "mlpclass_pipeline = make_pipeline(\n",
    "    MLPClassifier(random_state=42)\n",
    ")\n",
    "grid_params = {\n",
    "    'mlpclassifier__hidden_layer_sizes': [(50,), (100,), (50, 25)],     # One layer: 50 and 100. Then a two layer\n",
    "    'mlpclassifier__max_iter': [600]                                    # At 300 still several not converging\n",
    "\n",
    "\n",
    "    # 'logisticregression__penalty': ['l1', 'l2'],                # L1 or L2 regularisation\n",
    "    # 'logisticregression__solver': ['saga', 'liblinear'],        # Saga is a variant of Sag. With L1 or l2. Large dataset. liblinear is for small datasets, binary classifications\n",
    "    # 'logisticregression__C': [0.01, 0.1, 1, 5],                 # Strength of regularisation, default is 1, smaller is stronger\n",
    "    # 'logisticregression__max_iter': [600],                      # Max 500 iterations seems to be sufficient\n",
    "    # 'logisticregression__class_weight': ['balanced']            # Balanced seems to give a better recall & precision\n",
    "    # # 'logisticregression__class_weight': [None, 'balanced'] # Tries to adjust to balance for classes that are imbalanced\n",
    "}\n",
    "# scoring = ['accuracy', 'precision', 'recall', 'f1', 'roc_auc']\n",
    "\n",
    "from sklearn.metrics import make_scorer, precision_score, f1_score\n",
    "# Create a custom scorer\n",
    "# custom_scorer = make_scorer(precision_score, pos_label='yes')\n",
    "custom_scorer = make_scorer(f1_score, pos_label='yes')\n",
    "\n",
    "\n",
    "\n",
    "# Run the search\n",
    "start_time = time.perf_counter()\n",
    "# rand_search = RandomizedSearchCV(logreg_pipeline, grid_params, scoring=scoring, cv=5, refit='accuracy')\n",
    "# rand_search = RandomizedSearchCV(logreg_pipeline, grid_params, scoring='accuracy', cv=5)\n",
    "mlpclass_search = GridSearchCV(mlpclass_pipeline, grid_params, scoring=custom_scorer, cv=5)\n",
    "# Accuracy and roc_auc scoring  are comparable,  ... can't get precision, f1 to work ... need label of 'no or 'yes in !?\n",
    "\n",
    "mlpclass_search.fit(X_train, y_train)\n",
    "duration = time.perf_counter() - start_time\n"
   ]
  },
  {
   "cell_type": "code",
   "execution_count": 11,
   "metadata": {},
   "outputs": [
    {
     "name": "stdout",
     "output_type": "stream",
     "text": [
      "------- Search Results --------\n",
      "Score: 0.3082. Mean: 0.3066 and STD 0.0016\n",
      "Search Took: 439.86 seconds\n",
      "Best Parameters: {'mlpclassifier__hidden_layer_sizes': (50, 25), 'mlpclassifier__max_iter': 600}\n",
      "Top 10 out of 3 combinations:\n"
     ]
    },
    {
     "data": {
      "text/html": [
       "<div>\n",
       "<style scoped>\n",
       "    .dataframe tbody tr th:only-of-type {\n",
       "        vertical-align: middle;\n",
       "    }\n",
       "\n",
       "    .dataframe tbody tr th {\n",
       "        vertical-align: top;\n",
       "    }\n",
       "\n",
       "    .dataframe thead th {\n",
       "        text-align: right;\n",
       "    }\n",
       "</style>\n",
       "<table border=\"1\" class=\"dataframe\">\n",
       "  <thead>\n",
       "    <tr style=\"text-align: right;\">\n",
       "      <th></th>\n",
       "      <th>rank_test_score</th>\n",
       "      <th>mean_test_score</th>\n",
       "      <th>mean_fit_time</th>\n",
       "      <th>mean_score_time</th>\n",
       "      <th>params</th>\n",
       "    </tr>\n",
       "  </thead>\n",
       "  <tbody>\n",
       "    <tr>\n",
       "      <th>2</th>\n",
       "      <td>1</td>\n",
       "      <td>0.308211</td>\n",
       "      <td>21.382553</td>\n",
       "      <td>0.024471</td>\n",
       "      <td>{'mlpclassifier__hidden_layer_sizes': (50, 25)...</td>\n",
       "    </tr>\n",
       "    <tr>\n",
       "      <th>1</th>\n",
       "      <td>2</td>\n",
       "      <td>0.307181</td>\n",
       "      <td>39.802702</td>\n",
       "      <td>0.025907</td>\n",
       "      <td>{'mlpclassifier__hidden_layer_sizes': (100,), ...</td>\n",
       "    </tr>\n",
       "    <tr>\n",
       "      <th>0</th>\n",
       "      <td>3</td>\n",
       "      <td>0.304509</td>\n",
       "      <td>20.337291</td>\n",
       "      <td>0.021184</td>\n",
       "      <td>{'mlpclassifier__hidden_layer_sizes': (50,), '...</td>\n",
       "    </tr>\n",
       "  </tbody>\n",
       "</table>\n",
       "</div>"
      ],
      "text/plain": [
       "   rank_test_score  mean_test_score  mean_fit_time  mean_score_time  \\\n",
       "2                1         0.308211      21.382553         0.024471   \n",
       "1                2         0.307181      39.802702         0.025907   \n",
       "0                3         0.304509      20.337291         0.021184   \n",
       "\n",
       "                                              params  \n",
       "2  {'mlpclassifier__hidden_layer_sizes': (50, 25)...  \n",
       "1  {'mlpclassifier__hidden_layer_sizes': (100,), ...  \n",
       "0  {'mlpclassifier__hidden_layer_sizes': (50,), '...  "
      ]
     },
     "metadata": {},
     "output_type": "display_data"
    },
    {
     "name": "stdout",
     "output_type": "stream",
     "text": [
      "Accuracy: 0.7434\n",
      "Precision: 0.3306\n",
      "Recall: 0.3265\n",
      "F1 Score 0.3285\n",
      "Specificity: 0.8426\n",
      "Hamming Loss 0.2566\n",
      "ROC-AUC Score 0.6424\n",
      "Gini Index: 0.2849\n"
     ]
    },
    {
     "data": {
      "image/png": "[encoded data removed]",
      "text/plain": [
       "<Figure size 1200x400 with 2 Axes>"
      ]
     },
     "metadata": {},
     "output_type": "display_data"
    },
    {
     "data": {
      "image/png": "[encoded data removed]",
      "text/plain": [
       "<Figure size 600x400 with 1 Axes>"
      ]
     },
     "metadata": {},
     "output_type": "display_data"
    }
   ],
   "source": [
    "# Show the results\n",
    "print_search_results(mlpclass_search, duration)\n",
    "\n",
    "# Get the Best Model & Calculate Predicted Y and Evaluate\n",
    "model_mlpclass = mlpclass_search.best_estimator_\n",
    "y_pred = model_mlpclass.predict(X_test)\n",
    "classification_metrics(model_mlpclass, X_test, y_test, y_pred)\n",
    "\n",
    "# ?? use\n",
    "# print(\"The probabilities across the possible classes for that output are\", model.predict_proba(X_test[0:1]))\n",
    "\n",
    "# from sklearn.model_selection import cross_val_score\n",
    "# cv_accuracy = np.mean(cross_val_score(model_clf, X_train, y_train, cv=5))\n",
    "# print(cv_accuracy)"
   ]
  }
 ],
 "metadata": {
  "kernelspec": {
   "display_name": "ml_v4",
   "language": "python",
   "name": "python3"
  },
  "language_info": {
   "codemirror_mode": {
    "name": "ipython",
    "version": 3
   },
   "file_extension": ".py",
   "mimetype": "text/x-python",
   "name": "python",
   "nbconvert_exporter": "python",
   "pygments_lexer": "ipython3",
   "version": "3.11.3"
  }
 },
 "nbformat": 4,
 "nbformat_minor": 2
}
